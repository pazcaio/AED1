{
 "cells": [
  {
   "cell_type": "markdown",
   "id": "258ae49b-0b30-41df-ad6e-c4ec69ac0b54",
   "metadata": {},
   "source": [
    "Quebrando a Maldiçao"
   ]
  },
  {
   "cell_type": "code",
   "execution_count": 2,
   "id": "e1e39a19-2ece-475f-8251-8391c41b9698",
   "metadata": {},
   "outputs": [
    {
     "name": "stdout",
     "output_type": "stream",
     "text": [
      "Olá Mundo\n"
     ]
    }
   ],
   "source": [
    "print('Olá Mundo')"
   ]
  },
  {
   "cell_type": "markdown",
   "id": "72020bea-0a40-46c3-a775-c5ccfda7a0f5",
   "metadata": {},
   "source": [
    "Testando o Compilador "
   ]
  },
  {
   "cell_type": "code",
   "execution_count": 3,
   "id": "754abef9-e52a-4d5c-a279-bc139bd83c42",
   "metadata": {},
   "outputs": [
    {
     "data": {
      "text/plain": [
       "10"
      ]
     },
     "execution_count": 3,
     "metadata": {},
     "output_type": "execute_result"
    }
   ],
   "source": [
    "5 + 5"
   ]
  },
  {
   "cell_type": "code",
   "execution_count": 10,
   "id": "327cf70c-8b73-48fe-a5b5-695c3093ebd6",
   "metadata": {},
   "outputs": [],
   "source": [
    "nome = \"Caio\""
   ]
  },
  {
   "cell_type": "code",
   "execution_count": 11,
   "id": "dc8432df-72ca-4104-856d-ac1c71d62af5",
   "metadata": {},
   "outputs": [
    {
     "data": {
      "text/plain": [
       "'Caio'"
      ]
     },
     "execution_count": 11,
     "metadata": {},
     "output_type": "execute_result"
    }
   ],
   "source": [
    "nome"
   ]
  },
  {
   "cell_type": "code",
   "execution_count": 12,
   "id": "b4ed7505-137a-410f-bf3d-e60c99532d86",
   "metadata": {},
   "outputs": [
    {
     "name": "stdout",
     "output_type": "stream",
     "text": [
      "Caio\n"
     ]
    }
   ],
   "source": [
    "print(nome)"
   ]
  },
  {
   "cell_type": "code",
   "execution_count": 13,
   "id": "d2934d5f-918e-488f-bc6c-54611af5290c",
   "metadata": {},
   "outputs": [],
   "source": [
    "x = 345"
   ]
  },
  {
   "cell_type": "code",
   "execution_count": 14,
   "id": "76d42ada-129b-4145-8983-33ed424be668",
   "metadata": {},
   "outputs": [
    {
     "name": "stdout",
     "output_type": "stream",
     "text": [
      "345\n"
     ]
    }
   ],
   "source": [
    "print(x)"
   ]
  },
  {
   "cell_type": "code",
   "execution_count": 16,
   "id": "fbbf822b-79f2-4821-8ad3-e2c753aff949",
   "metadata": {},
   "outputs": [],
   "source": [
    "y = x + 2"
   ]
  },
  {
   "cell_type": "code",
   "execution_count": 17,
   "id": "ad7dfcc5-e193-439a-9e82-f3a303a01e6d",
   "metadata": {},
   "outputs": [
    {
     "data": {
      "text/plain": [
       "347"
      ]
     },
     "execution_count": 17,
     "metadata": {},
     "output_type": "execute_result"
    }
   ],
   "source": [
    "y"
   ]
  },
  {
   "cell_type": "markdown",
   "id": "a51514d7-2c82-4c50-9a4e-57e6218c597c",
   "metadata": {},
   "source": [
    "Linearização de Expressões (A representação de equações e inequações matematicas são linearizadas para adequar a códigos"
   ]
  },
  {
   "cell_type": "code",
   "execution_count": 34,
   "id": "f9552263-774f-490f-b5fe-b7d3319e1ebd",
   "metadata": {},
   "outputs": [],
   "source": [
    "y = (7, 2, 3, 5)\n",
    "b = (5, 3, 2, 5)\n",
    "c = (2, 3, 5, 6)\n"
   ]
  },
  {
   "cell_type": "code",
   "execution_count": 35,
   "id": "a164b133-5766-4e51-b92a-879235d6a93b",
   "metadata": {},
   "outputs": [
    {
     "name": "stdout",
     "output_type": "stream",
     "text": [
      "(7, 2, 3, 5) (5, 3, 2, 5) (2, 3, 5, 6)\n"
     ]
    }
   ],
   "source": [
    "print(y, b, c)"
   ]
  },
  {
   "cell_type": "code",
   "execution_count": 55,
   "id": "e907fbc4-ac99-4324-8e9a-4698027e2612",
   "metadata": {},
   "outputs": [
    {
     "name": "stdout",
     "output_type": "stream",
     "text": [
      "1.375\n",
      "1.5714285714285714\n",
      "0.8181818181818182\n",
      "1.25\n"
     ]
    }
   ],
   "source": [
    "for i in range(len(y)):\n",
    "    v = (y[i] + 3 * b[i]) / (2 * y[i] + c[i])\n",
    "    print(v)"
   ]
  },
  {
   "cell_type": "markdown",
   "id": "92769b48-5451-4c7d-83a2-ef6e044ecda8",
   "metadata": {},
   "source": [
    "Variaveis"
   ]
  },
  {
   "cell_type": "code",
   "execution_count": 60,
   "id": "b556d61f-d906-4f84-9041-67366cb07989",
   "metadata": {},
   "outputs": [],
   "source": [
    "a = 5\n",
    "f = 5.0"
   ]
  },
  {
   "cell_type": "code",
   "execution_count": 64,
   "id": "7abfd811-e5b2-4d5c-bafb-a8e505cc8525",
   "metadata": {},
   "outputs": [
    {
     "data": {
      "text/plain": [
       "int"
      ]
     },
     "execution_count": 64,
     "metadata": {},
     "output_type": "execute_result"
    }
   ],
   "source": [
    "type(a)"
   ]
  },
  {
   "cell_type": "code",
   "execution_count": 63,
   "id": "89225407-c23d-4bdc-a03b-6016cef5e99d",
   "metadata": {},
   "outputs": [
    {
     "data": {
      "text/plain": [
       "float"
      ]
     },
     "execution_count": 63,
     "metadata": {},
     "output_type": "execute_result"
    }
   ],
   "source": [
    "type(f)"
   ]
  },
  {
   "cell_type": "code",
   "execution_count": 66,
   "id": "d35c513f-f13e-4827-9059-72716d1a2160",
   "metadata": {},
   "outputs": [],
   "source": [
    "g = True"
   ]
  },
  {
   "cell_type": "code",
   "execution_count": 67,
   "id": "fb973b5b-42cf-4f94-886d-94157941ef2e",
   "metadata": {},
   "outputs": [
    {
     "data": {
      "text/plain": [
       "bool"
      ]
     },
     "execution_count": 67,
     "metadata": {},
     "output_type": "execute_result"
    }
   ],
   "source": [
    "type(g)"
   ]
  },
  {
   "cell_type": "code",
   "execution_count": 68,
   "id": "c194c273-1864-47c1-a7d6-22cdf9713396",
   "metadata": {},
   "outputs": [],
   "source": [
    "x = 45\n",
    "y = 23"
   ]
  },
  {
   "cell_type": "code",
   "execution_count": 69,
   "id": "de0a6e35-a637-4ad4-9798-dcd580211869",
   "metadata": {},
   "outputs": [],
   "source": [
    "soma = x + y"
   ]
  },
  {
   "cell_type": "code",
   "execution_count": 70,
   "id": "20bf7c13-9cd1-438e-b227-72ddc63a9271",
   "metadata": {},
   "outputs": [
    {
     "data": {
      "text/plain": [
       "68"
      ]
     },
     "execution_count": 70,
     "metadata": {},
     "output_type": "execute_result"
    }
   ],
   "source": [
    "soma"
   ]
  },
  {
   "cell_type": "code",
   "execution_count": 71,
   "id": "2238105a-bad4-46ff-8142-155140019dbf",
   "metadata": {},
   "outputs": [
    {
     "data": {
      "text/plain": [
       "int"
      ]
     },
     "execution_count": 71,
     "metadata": {},
     "output_type": "execute_result"
    }
   ],
   "source": [
    "type(soma)"
   ]
  },
  {
   "cell_type": "code",
   "execution_count": 72,
   "id": "af0b7d29-aec4-4c39-bd31-5b2d7a4a3707",
   "metadata": {},
   "outputs": [
    {
     "name": "stdout",
     "output_type": "stream",
     "text": [
      "68\n"
     ]
    }
   ],
   "source": [
    "print(soma)"
   ]
  },
  {
   "cell_type": "code",
   "execution_count": 73,
   "id": "dbe7fba9-d2e0-4ae8-9f8e-1a0dbf2ec2f3",
   "metadata": {},
   "outputs": [
    {
     "data": {
      "text/plain": [
       "1.9565217391304348"
      ]
     },
     "execution_count": 73,
     "metadata": {},
     "output_type": "execute_result"
    }
   ],
   "source": [
    "x / y"
   ]
  },
  {
   "cell_type": "code",
   "execution_count": 74,
   "id": "351d4b4c-528b-4f6e-b5d6-6539ac66287b",
   "metadata": {},
   "outputs": [
    {
     "data": {
      "text/plain": [
       "1"
      ]
     },
     "execution_count": 74,
     "metadata": {},
     "output_type": "execute_result"
    }
   ],
   "source": [
    "x // y"
   ]
  },
  {
   "cell_type": "code",
   "execution_count": 75,
   "id": "6bfa2399-1792-4e34-9d1e-86d3377056b1",
   "metadata": {},
   "outputs": [
    {
     "data": {
      "text/plain": [
       "22"
      ]
     },
     "execution_count": 75,
     "metadata": {},
     "output_type": "execute_result"
    }
   ],
   "source": [
    "x % y"
   ]
  },
  {
   "cell_type": "code",
   "execution_count": 76,
   "id": "3c26f07b-230a-4028-b679-7f5d66c5471d",
   "metadata": {},
   "outputs": [
    {
     "data": {
      "text/plain": [
       "int"
      ]
     },
     "execution_count": 76,
     "metadata": {},
     "output_type": "execute_result"
    }
   ],
   "source": [
    "type(x % y)"
   ]
  },
  {
   "cell_type": "code",
   "execution_count": 77,
   "id": "5472004e-f635-4402-a853-c31d8d198db4",
   "metadata": {},
   "outputs": [],
   "source": [
    "r = 100_000_000"
   ]
  },
  {
   "cell_type": "code",
   "execution_count": 78,
   "id": "bcffc2b0-dd5e-49b4-82f4-e75e58ead98f",
   "metadata": {},
   "outputs": [
    {
     "data": {
      "text/plain": [
       "100000000"
      ]
     },
     "execution_count": 78,
     "metadata": {},
     "output_type": "execute_result"
    }
   ],
   "source": [
    "r"
   ]
  },
  {
   "cell_type": "code",
   "execution_count": 79,
   "id": "6a0da921-b4af-4e28-be3c-c1e2dbf1a643",
   "metadata": {},
   "outputs": [
    {
     "data": {
      "text/plain": [
       "105654455657631171893227100372314453125"
      ]
     },
     "execution_count": 79,
     "metadata": {},
     "output_type": "execute_result"
    }
   ],
   "source": [
    "x ** y"
   ]
  },
  {
   "cell_type": "markdown",
   "id": "22f6a27a-8870-4c5c-b09c-1be8c02490b5",
   "metadata": {},
   "source": [
    "Toda a linguagem de python é contruída em objeto, diferente de outras linguagem contrídas em tipagem. Ou seja posso mudar o tipo do objeto a qualquer momento."
   ]
  },
  {
   "cell_type": "code",
   "execution_count": 80,
   "id": "90102181-f13a-4815-bc9d-a53e5f4c1a08",
   "metadata": {},
   "outputs": [],
   "source": [
    "y = 4.5"
   ]
  },
  {
   "cell_type": "code",
   "execution_count": 81,
   "id": "9a366e43-6a2f-42a0-9993-be9c4d1f6c0c",
   "metadata": {},
   "outputs": [
    {
     "data": {
      "text/plain": [
       "float"
      ]
     },
     "execution_count": 81,
     "metadata": {},
     "output_type": "execute_result"
    }
   ],
   "source": [
    "type(y)"
   ]
  },
  {
   "cell_type": "code",
   "execution_count": 82,
   "id": "9e8e462b-1417-4496-b69e-e68446e82468",
   "metadata": {},
   "outputs": [
    {
     "data": {
      "text/plain": [
       "float"
      ]
     },
     "execution_count": 82,
     "metadata": {},
     "output_type": "execute_result"
    }
   ],
   "source": [
    "type(x / y) ## Toda divisão será do tipo Float"
   ]
  },
  {
   "cell_type": "code",
   "execution_count": 93,
   "id": "99e9ee4c-a302-4529-84a0-e0099ff6e9fa",
   "metadata": {},
   "outputs": [
    {
     "data": {
      "text/plain": [
       "(-0.9970151417980471-0.07720626286396828j)"
      ]
     },
     "execution_count": 93,
     "metadata": {},
     "output_type": "execute_result"
    }
   ],
   "source": [
    "5 ** 2j ## numeros complexos"
   ]
  },
  {
   "cell_type": "code",
   "execution_count": 88,
   "id": "1c9c1ecd-2ba4-4b1e-983e-697ec6ee08a7",
   "metadata": {},
   "outputs": [],
   "source": [
    "x = True"
   ]
  },
  {
   "cell_type": "code",
   "execution_count": 89,
   "id": "3a751dc3-bcaf-4008-b684-e4663e8f9d25",
   "metadata": {},
   "outputs": [],
   "source": [
    "y = False"
   ]
  },
  {
   "cell_type": "code",
   "execution_count": 90,
   "id": "500bac98-8dbd-419d-b1bf-4ccdeb84cb4f",
   "metadata": {},
   "outputs": [
    {
     "data": {
      "text/plain": [
       "False"
      ]
     },
     "execution_count": 90,
     "metadata": {},
     "output_type": "execute_result"
    }
   ],
   "source": [
    "x and y"
   ]
  },
  {
   "cell_type": "code",
   "execution_count": 91,
   "id": "d230085a-2ae2-4015-b719-e5ba4f6c5d7e",
   "metadata": {},
   "outputs": [
    {
     "data": {
      "text/plain": [
       "True"
      ]
     },
     "execution_count": 91,
     "metadata": {},
     "output_type": "execute_result"
    }
   ],
   "source": [
    "x or Y"
   ]
  },
  {
   "cell_type": "code",
   "execution_count": 92,
   "id": "6834c249-91bb-424d-beff-6f4b25c8e2c0",
   "metadata": {},
   "outputs": [
    {
     "data": {
      "text/plain": [
       "False"
      ]
     },
     "execution_count": 92,
     "metadata": {},
     "output_type": "execute_result"
    }
   ],
   "source": [
    "not x"
   ]
  },
  {
   "cell_type": "code",
   "execution_count": 99,
   "id": "c768d72b-9106-4b13-bb09-5456ccf8f0ae",
   "metadata": {},
   "outputs": [],
   "source": [
    "nome = 'Caio'"
   ]
  },
  {
   "cell_type": "code",
   "execution_count": 100,
   "id": "ea58c1ae-b733-4656-8aac-1f884bb242bc",
   "metadata": {},
   "outputs": [
    {
     "data": {
      "text/plain": [
       "str"
      ]
     },
     "execution_count": 100,
     "metadata": {},
     "output_type": "execute_result"
    }
   ],
   "source": [
    "type(nome)"
   ]
  },
  {
   "cell_type": "code",
   "execution_count": 101,
   "id": "148a6eab-7d63-42e0-ac8c-3b15e996cdc7",
   "metadata": {},
   "outputs": [],
   "source": [
    "prenome = 'Tascano'"
   ]
  },
  {
   "cell_type": "code",
   "execution_count": 102,
   "id": "fa658c18-a63f-41da-92cb-0143d5b2ae2e",
   "metadata": {},
   "outputs": [],
   "source": [
    "nome_completo = prenome + ' ' + nome"
   ]
  },
  {
   "cell_type": "code",
   "execution_count": 103,
   "id": "aad5a87e-5ec0-49ff-9963-ef19f5d553de",
   "metadata": {},
   "outputs": [
    {
     "data": {
      "text/plain": [
       "'Tascano Caio'"
      ]
     },
     "execution_count": 103,
     "metadata": {},
     "output_type": "execute_result"
    }
   ],
   "source": [
    "nome_completo"
   ]
  },
  {
   "cell_type": "code",
   "execution_count": 104,
   "id": "1c5be79a-c508-47f0-8a22-94050bd56c00",
   "metadata": {},
   "outputs": [
    {
     "data": {
      "text/plain": [
       "'CaioCaioCaioCaio'"
      ]
     },
     "execution_count": 104,
     "metadata": {},
     "output_type": "execute_result"
    }
   ],
   "source": [
    "nome * 4"
   ]
  },
  {
   "cell_type": "code",
   "execution_count": 106,
   "id": "acbc9224-9058-46d9-8e9b-09f2bac826f7",
   "metadata": {},
   "outputs": [
    {
     "data": {
      "text/plain": [
       "'Caio Caio Caio Caio '"
      ]
     },
     "execution_count": 106,
     "metadata": {},
     "output_type": "execute_result"
    }
   ],
   "source": [
    "(nome + ' ') * 4"
   ]
  },
  {
   "cell_type": "code",
   "execution_count": 107,
   "id": "0941ce42-0ca1-4d2c-9326-73d5366dffce",
   "metadata": {},
   "outputs": [
    {
     "data": {
      "text/plain": [
       "'C'"
      ]
     },
     "execution_count": 107,
     "metadata": {},
     "output_type": "execute_result"
    }
   ],
   "source": [
    "nome[0:1]"
   ]
  },
  {
   "cell_type": "code",
   "execution_count": null,
   "id": "30783299-ce8a-4b56-8824-0665bf29a2a6",
   "metadata": {},
   "outputs": [],
   "source": []
  }
 ],
 "metadata": {
  "kernelspec": {
   "display_name": "Python 3 (ipykernel)",
   "language": "python",
   "name": "python3"
  },
  "language_info": {
   "codemirror_mode": {
    "name": "ipython",
    "version": 3
   },
   "file_extension": ".py",
   "mimetype": "text/x-python",
   "name": "python",
   "nbconvert_exporter": "python",
   "pygments_lexer": "ipython3",
   "version": "3.12.4"
  }
 },
 "nbformat": 4,
 "nbformat_minor": 5
}
