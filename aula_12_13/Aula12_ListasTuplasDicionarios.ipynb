{
 "cells": [
  {
   "cell_type": "markdown",
   "metadata": {},
   "source": [
    "![Algoritmos e Estrutura de Dados I](AED1_banner.jpg)"
   ]
  },
  {
   "cell_type": "markdown",
   "metadata": {},
   "source": [
    "## <font color='blue'>Aula 12 - Algoritmos e Estrutura de Dados 1 </font>\n",
    "## <font color='blue'>Estruturas de Dados (Listas / Tuplas / Dicionários)</font>"
   ]
  },
  {
   "cell_type": "code",
   "execution_count": null,
   "metadata": {},
   "outputs": [],
   "source": [
    "# Versão da Linguagem Python\n",
    "from platform import python_version\n",
    "print('Versão da Linguagem Python Usada Neste Jupyter Notebook:', python_version())"
   ]
  },
  {
   "cell_type": "markdown",
   "metadata": {},
   "source": [
    "## <font color='blue'>LISTAS...</font>\n",
    "---\n",
    "### Trabalhando com Listas"
   ]
  },
  {
   "cell_type": "code",
   "execution_count": null,
   "metadata": {},
   "outputs": [],
   "source": [
    "# Criando uma lista\n",
    "lista_1 = [\"arroz, frango, tomate, leite\"]"
   ]
  },
  {
   "cell_type": "code",
   "execution_count": null,
   "metadata": {},
   "outputs": [],
   "source": [
    "type(lista_1)"
   ]
  },
  {
   "cell_type": "code",
   "execution_count": null,
   "metadata": {},
   "outputs": [],
   "source": [
    "# Imprimindo a lista\n",
    "print(lista_1)"
   ]
  },
  {
   "cell_type": "code",
   "execution_count": null,
   "metadata": {},
   "outputs": [],
   "source": [
    "# Criando outra lista\n",
    "lista_2 = [\"arroz\", \"frango\", \"tomate\", \"leite\"]"
   ]
  },
  {
   "cell_type": "code",
   "execution_count": null,
   "metadata": {},
   "outputs": [],
   "source": [
    "type(lista_2)"
   ]
  },
  {
   "cell_type": "code",
   "execution_count": null,
   "metadata": {},
   "outputs": [],
   "source": [
    "# Imprimindo a lista\n",
    "print(lista_2)"
   ]
  },
  {
   "cell_type": "code",
   "execution_count": null,
   "metadata": {},
   "outputs": [],
   "source": [
    "# Criando lista\n",
    "lista_3 = [23, 100, \"Cientista de Dados\"]"
   ]
  },
  {
   "cell_type": "code",
   "execution_count": null,
   "metadata": {},
   "outputs": [],
   "source": [
    "type(lista_3)"
   ]
  },
  {
   "cell_type": "code",
   "execution_count": null,
   "metadata": {},
   "outputs": [],
   "source": [
    "# Imprimindo\n",
    "print(lista_3)"
   ]
  },
  {
   "cell_type": "code",
   "execution_count": null,
   "metadata": {},
   "outputs": [],
   "source": [
    "# Atribuindo cada valor da lista a uma variável.\n",
    "item1 = lista_3[0]\n",
    "item2 = lista_3[1]\n",
    "item3 = lista_3[2]"
   ]
  },
  {
   "cell_type": "code",
   "execution_count": null,
   "metadata": {},
   "outputs": [],
   "source": [
    "# Imprimindo as variáveis\n",
    "print(item1, item2, item3)"
   ]
  },
  {
   "cell_type": "code",
   "execution_count": null,
   "metadata": {},
   "outputs": [],
   "source": [
    "alunos = ['ana', 'pedro', 'maria']\n",
    "notas = [9, 3.5, 6]"
   ]
  },
  {
   "cell_type": "code",
   "execution_count": null,
   "metadata": {},
   "outputs": [],
   "source": [
    "for i in range(len(alunos)):\n",
    "    print(f\"O(a) estudante {alunos[i]} teve nota {notas[i]}!\")"
   ]
  },
  {
   "cell_type": "markdown",
   "metadata": {},
   "source": [
    "#### Atualizando Um Item da Lista"
   ]
  },
  {
   "cell_type": "code",
   "execution_count": null,
   "metadata": {},
   "outputs": [],
   "source": [
    "lista_2"
   ]
  },
  {
   "cell_type": "code",
   "execution_count": null,
   "metadata": {},
   "outputs": [],
   "source": [
    "# Imprimindo um item da lista\n",
    "lista_2[2]"
   ]
  },
  {
   "cell_type": "code",
   "execution_count": null,
   "metadata": {},
   "outputs": [],
   "source": [
    "# Atualizando um item da lista\n",
    "lista_2[2] = \"chocolate\""
   ]
  },
  {
   "cell_type": "code",
   "execution_count": null,
   "metadata": {},
   "outputs": [],
   "source": [
    "# Imprimindo lista alterada\n",
    "lista_2"
   ]
  },
  {
   "cell_type": "markdown",
   "metadata": {},
   "source": [
    "#### Deletando Um Item da Lista"
   ]
  },
  {
   "cell_type": "code",
   "execution_count": null,
   "metadata": {},
   "outputs": [],
   "source": [
    "lista_2"
   ]
  },
  {
   "cell_type": "code",
   "execution_count": null,
   "metadata": {},
   "outputs": [],
   "source": [
    "# Não é possível deletar um item que não existe na lista. Vai gerar erro index out of range\n",
    "del lista_2[4]   "
   ]
  },
  {
   "cell_type": "code",
   "execution_count": null,
   "metadata": {},
   "outputs": [],
   "source": [
    "# Deletando um item específico da lista\n",
    "del lista_2[3]"
   ]
  },
  {
   "cell_type": "code",
   "execution_count": null,
   "metadata": {},
   "outputs": [],
   "source": [
    "# Imprimindo o item com a lista alterada\n",
    "lista_2"
   ]
  },
  {
   "cell_type": "markdown",
   "metadata": {},
   "source": [
    "#### Listas de Listas (Listas Aninhadas)\n",
    "\n",
    "Listas de listas são matrizes em Python."
   ]
  },
  {
   "cell_type": "code",
   "execution_count": null,
   "metadata": {},
   "outputs": [],
   "source": [
    "# Criando uma lista de listas\n",
    "listas = [ [1,2,3], [10,15,14], [10.1,8.7,2.3] ]"
   ]
  },
  {
   "cell_type": "code",
   "execution_count": null,
   "metadata": {},
   "outputs": [],
   "source": [
    "# Imprimindo a lista\n",
    "print(listas)"
   ]
  },
  {
   "cell_type": "code",
   "execution_count": null,
   "metadata": {},
   "outputs": [],
   "source": [
    "# Atribuindo um item da lista a uma variável\n",
    "a = listas[0]"
   ]
  },
  {
   "cell_type": "code",
   "execution_count": null,
   "metadata": {},
   "outputs": [],
   "source": [
    "listas[0][1]"
   ]
  },
  {
   "cell_type": "code",
   "execution_count": null,
   "metadata": {},
   "outputs": [],
   "source": [
    "a"
   ]
  },
  {
   "cell_type": "code",
   "execution_count": null,
   "metadata": {},
   "outputs": [],
   "source": [
    "b = a[0]"
   ]
  },
  {
   "cell_type": "code",
   "execution_count": null,
   "metadata": {},
   "outputs": [],
   "source": [
    "b"
   ]
  },
  {
   "cell_type": "code",
   "execution_count": null,
   "metadata": {},
   "outputs": [],
   "source": [
    "list1 = listas[1]"
   ]
  },
  {
   "cell_type": "code",
   "execution_count": null,
   "metadata": {},
   "outputs": [],
   "source": [
    "list1"
   ]
  },
  {
   "cell_type": "code",
   "execution_count": null,
   "metadata": {},
   "outputs": [],
   "source": [
    "valor_1_0 = list1[0]"
   ]
  },
  {
   "cell_type": "code",
   "execution_count": null,
   "metadata": {},
   "outputs": [],
   "source": [
    "valor_1_0"
   ]
  },
  {
   "cell_type": "code",
   "execution_count": null,
   "metadata": {},
   "outputs": [],
   "source": [
    "valor_1_2 = list1[2]"
   ]
  },
  {
   "cell_type": "code",
   "execution_count": null,
   "metadata": {},
   "outputs": [],
   "source": [
    "valor_1_2"
   ]
  },
  {
   "cell_type": "code",
   "execution_count": null,
   "metadata": {},
   "outputs": [],
   "source": [
    "list2 = listas[2]"
   ]
  },
  {
   "cell_type": "code",
   "execution_count": null,
   "metadata": {},
   "outputs": [],
   "source": [
    "list2"
   ]
  },
  {
   "cell_type": "code",
   "execution_count": null,
   "metadata": {},
   "outputs": [],
   "source": [
    "valor_2_0 = list2[0]"
   ]
  },
  {
   "cell_type": "code",
   "execution_count": null,
   "metadata": {},
   "outputs": [],
   "source": [
    "valor_2_0"
   ]
  },
  {
   "cell_type": "markdown",
   "metadata": {},
   "source": [
    "#### Operações com Listas"
   ]
  },
  {
   "cell_type": "code",
   "execution_count": 2,
   "metadata": {},
   "outputs": [],
   "source": [
    "# Criando uma lista aninhada (lista de listas - Matrizes)\n",
    "listas = [[1,2,3], [10,15,14], [10.1,8.7,2.3]]"
   ]
  },
  {
   "cell_type": "code",
   "execution_count": 3,
   "metadata": {},
   "outputs": [
    {
     "data": {
      "text/plain": [
       "[[1, 2, 3], [10, 15, 14], [10.1, 8.7, 2.3]]"
      ]
     },
     "execution_count": 3,
     "metadata": {},
     "output_type": "execute_result"
    }
   ],
   "source": [
    "listas"
   ]
  },
  {
   "cell_type": "code",
   "execution_count": 5,
   "metadata": {},
   "outputs": [],
   "source": [
    "# Atribuindo à variável a o primeiro valor da primeira lista\n",
    "a = listas[0][0]"
   ]
  },
  {
   "cell_type": "code",
   "execution_count": 6,
   "metadata": {},
   "outputs": [
    {
     "data": {
      "text/plain": [
       "1"
      ]
     },
     "execution_count": 6,
     "metadata": {},
     "output_type": "execute_result"
    }
   ],
   "source": [
    "a"
   ]
  },
  {
   "cell_type": "code",
   "execution_count": 7,
   "metadata": {},
   "outputs": [],
   "source": [
    "b = listas[1][2]"
   ]
  },
  {
   "cell_type": "code",
   "execution_count": 8,
   "metadata": {},
   "outputs": [
    {
     "data": {
      "text/plain": [
       "14"
      ]
     },
     "execution_count": 8,
     "metadata": {},
     "output_type": "execute_result"
    }
   ],
   "source": [
    "b"
   ]
  },
  {
   "cell_type": "code",
   "execution_count": 9,
   "metadata": {},
   "outputs": [],
   "source": [
    "c = listas[0][2] + 10"
   ]
  },
  {
   "cell_type": "code",
   "execution_count": 10,
   "metadata": {},
   "outputs": [
    {
     "data": {
      "text/plain": [
       "13"
      ]
     },
     "execution_count": 10,
     "metadata": {},
     "output_type": "execute_result"
    }
   ],
   "source": [
    "c"
   ]
  },
  {
   "cell_type": "code",
   "execution_count": null,
   "metadata": {},
   "outputs": [],
   "source": [
    "d = 10"
   ]
  },
  {
   "cell_type": "code",
   "execution_count": null,
   "metadata": {},
   "outputs": [],
   "source": [
    "d"
   ]
  },
  {
   "cell_type": "code",
   "execution_count": null,
   "metadata": {},
   "outputs": [],
   "source": [
    "e = d * listas[2][0]"
   ]
  },
  {
   "cell_type": "code",
   "execution_count": null,
   "metadata": {},
   "outputs": [],
   "source": [
    "e"
   ]
  },
  {
   "cell_type": "markdown",
   "metadata": {},
   "source": [
    "#### Concatenando Listas"
   ]
  },
  {
   "cell_type": "code",
   "execution_count": null,
   "metadata": {},
   "outputs": [],
   "source": [
    "lista_s1 = [34, 32, 56]"
   ]
  },
  {
   "cell_type": "code",
   "execution_count": null,
   "metadata": {},
   "outputs": [],
   "source": [
    "lista_s1"
   ]
  },
  {
   "cell_type": "code",
   "execution_count": null,
   "metadata": {},
   "outputs": [],
   "source": [
    "lista_s2 = [21, 90, 51]"
   ]
  },
  {
   "cell_type": "code",
   "execution_count": null,
   "metadata": {},
   "outputs": [],
   "source": [
    "lista_s2"
   ]
  },
  {
   "cell_type": "code",
   "execution_count": null,
   "metadata": {},
   "outputs": [],
   "source": [
    "# Concatenando listas\n",
    "lista_total = lista_s1 + lista_s2"
   ]
  },
  {
   "cell_type": "code",
   "execution_count": null,
   "metadata": {},
   "outputs": [],
   "source": [
    "lista_total"
   ]
  },
  {
   "cell_type": "markdown",
   "metadata": {},
   "source": [
    "### Operador in"
   ]
  },
  {
   "cell_type": "code",
   "execution_count": 11,
   "metadata": {},
   "outputs": [],
   "source": [
    "# Criando uma lista\n",
    "lista_teste_op = [100, 2, -5, 3.4]"
   ]
  },
  {
   "cell_type": "code",
   "execution_count": 12,
   "metadata": {},
   "outputs": [
    {
     "name": "stdout",
     "output_type": "stream",
     "text": [
      "False\n"
     ]
    }
   ],
   "source": [
    "# Verificando se o valor 10 pertence a lista\n",
    "print(10 in lista_teste_op)"
   ]
  },
  {
   "cell_type": "code",
   "execution_count": 13,
   "metadata": {},
   "outputs": [
    {
     "name": "stdout",
     "output_type": "stream",
     "text": [
      "True\n"
     ]
    }
   ],
   "source": [
    "# Verificando se o valor 100 pertence a lista\n",
    "print(100 in lista_teste_op)"
   ]
  },
  {
   "cell_type": "markdown",
   "metadata": {},
   "source": [
    "### Funções Built-in"
   ]
  },
  {
   "cell_type": "code",
   "execution_count": null,
   "metadata": {},
   "outputs": [],
   "source": [
    "lista_s1."
   ]
  },
  {
   "cell_type": "markdown",
   "metadata": {},
   "source": [
    "![Listas](listas.jpg)"
   ]
  },
  {
   "cell_type": "code",
   "execution_count": null,
   "metadata": {},
   "outputs": [],
   "source": [
    "# Criando uma lista\n",
    "lista_numeros = [10, 20, 50, -3.4]"
   ]
  },
  {
   "cell_type": "code",
   "execution_count": null,
   "metadata": {},
   "outputs": [],
   "source": [
    "# Função len() retorna o comprimento da lista\n",
    "len(lista_numeros)"
   ]
  },
  {
   "cell_type": "code",
   "execution_count": null,
   "metadata": {},
   "outputs": [],
   "source": [
    "# Função max() retorna o valor máximo da lista\n",
    "max(lista_numeros)"
   ]
  },
  {
   "cell_type": "code",
   "execution_count": null,
   "metadata": {},
   "outputs": [],
   "source": [
    "# Função min() retorna o valor mínimo da lista\n",
    "min(lista_numeros)"
   ]
  },
  {
   "cell_type": "code",
   "execution_count": null,
   "metadata": {},
   "outputs": [],
   "source": [
    "# Criando uma lista\n",
    "lista_formacoes_dsa = [\"Analista de Dados\", \"Cientista de Dados\", \"Engenheiro de Dados\"]"
   ]
  },
  {
   "cell_type": "code",
   "execution_count": null,
   "metadata": {},
   "outputs": [],
   "source": [
    "lista_formacoes_dsa"
   ]
  },
  {
   "cell_type": "code",
   "execution_count": null,
   "metadata": {},
   "outputs": [],
   "source": [
    "# Adicionando um item à lista\n",
    "lista_formacoes_dsa.append(\"Engenheiro de IA\")"
   ]
  },
  {
   "cell_type": "code",
   "execution_count": null,
   "metadata": {},
   "outputs": [],
   "source": [
    "lista_formacoes_dsa"
   ]
  },
  {
   "cell_type": "code",
   "execution_count": null,
   "metadata": {},
   "outputs": [],
   "source": [
    "lista_formacoes_dsa.append(\"Engenheiro de IA\")"
   ]
  },
  {
   "cell_type": "code",
   "execution_count": null,
   "metadata": {
    "scrolled": true
   },
   "outputs": [],
   "source": [
    "lista_formacoes_dsa"
   ]
  },
  {
   "cell_type": "code",
   "execution_count": null,
   "metadata": {},
   "outputs": [],
   "source": [
    "lista_formacoes_dsa.count(\"Engenheiro de IA\")"
   ]
  },
  {
   "cell_type": "code",
   "execution_count": null,
   "metadata": {},
   "outputs": [],
   "source": [
    "# Criando uma lista vazia\n",
    "a = []"
   ]
  },
  {
   "cell_type": "code",
   "execution_count": null,
   "metadata": {},
   "outputs": [],
   "source": [
    "print(a)"
   ]
  },
  {
   "cell_type": "code",
   "execution_count": null,
   "metadata": {},
   "outputs": [],
   "source": [
    "type(a)"
   ]
  },
  {
   "cell_type": "code",
   "execution_count": null,
   "metadata": {},
   "outputs": [],
   "source": [
    "a.append(10)"
   ]
  },
  {
   "cell_type": "code",
   "execution_count": null,
   "metadata": {},
   "outputs": [],
   "source": [
    "a"
   ]
  },
  {
   "cell_type": "code",
   "execution_count": null,
   "metadata": {},
   "outputs": [],
   "source": [
    "a.append(50)"
   ]
  },
  {
   "cell_type": "code",
   "execution_count": null,
   "metadata": {},
   "outputs": [],
   "source": [
    "a"
   ]
  },
  {
   "cell_type": "code",
   "execution_count": null,
   "metadata": {},
   "outputs": [],
   "source": [
    "old_list = [1,2,5,10]"
   ]
  },
  {
   "cell_type": "code",
   "execution_count": null,
   "metadata": {},
   "outputs": [],
   "source": [
    "new_list = []"
   ]
  },
  {
   "cell_type": "code",
   "execution_count": null,
   "metadata": {},
   "outputs": [],
   "source": [
    "# Copiando os itens de uma lista para outra\n",
    "for item in old_list:\n",
    "    new_list.append(item)"
   ]
  },
  {
   "cell_type": "code",
   "execution_count": null,
   "metadata": {},
   "outputs": [],
   "source": [
    "lista = []\n",
    "while True:\n",
    "    n = int(input(\"Digite um valor (-1 para sair): \"))\n",
    "    if n == -1:\n",
    "        break\n",
    "    lista.append(n)\n",
    "\n",
    "print(lista)"
   ]
  },
  {
   "cell_type": "code",
   "execution_count": null,
   "metadata": {},
   "outputs": [],
   "source": [
    "new_list"
   ]
  },
  {
   "cell_type": "code",
   "execution_count": 14,
   "metadata": {},
   "outputs": [
    {
     "name": "stdout",
     "output_type": "stream",
     "text": [
      "['Recife', 'Manaus', 'Salvador', 'Fortaleza', 'Palmas']\n"
     ]
    }
   ],
   "source": [
    "cidades = ['Recife', 'Manaus', 'Salvador']\n",
    "cidades.extend(['Fortaleza', 'Palmas'])\n",
    "print (cidades)"
   ]
  },
  {
   "cell_type": "code",
   "execution_count": 15,
   "metadata": {},
   "outputs": [
    {
     "data": {
      "text/plain": [
       "2"
      ]
     },
     "execution_count": 15,
     "metadata": {},
     "output_type": "execute_result"
    }
   ],
   "source": [
    "cidades.index('Salvador')"
   ]
  },
  {
   "cell_type": "markdown",
   "metadata": {},
   "source": [
    "Lembre-se: em Python o índice começa por 0!"
   ]
  },
  {
   "cell_type": "code",
   "execution_count": 16,
   "metadata": {},
   "outputs": [
    {
     "ename": "ValueError",
     "evalue": "'Rio de Janeiro' is not in list",
     "output_type": "error",
     "traceback": [
      "\u001b[1;31m---------------------------------------------------------------------------\u001b[0m",
      "\u001b[1;31mValueError\u001b[0m                                Traceback (most recent call last)",
      "Cell \u001b[1;32mIn[16], line 1\u001b[0m\n\u001b[1;32m----> 1\u001b[0m cidades\u001b[38;5;241m.\u001b[39mindex(\u001b[38;5;124m'\u001b[39m\u001b[38;5;124mRio de Janeiro\u001b[39m\u001b[38;5;124m'\u001b[39m)\n",
      "\u001b[1;31mValueError\u001b[0m: 'Rio de Janeiro' is not in list"
     ]
    }
   ],
   "source": [
    "cidades.index('Rio de Janeiro')"
   ]
  },
  {
   "cell_type": "code",
   "execution_count": 17,
   "metadata": {},
   "outputs": [
    {
     "data": {
      "text/plain": [
       "['Recife', 'Manaus', 'Salvador', 'Fortaleza', 'Palmas']"
      ]
     },
     "execution_count": 17,
     "metadata": {},
     "output_type": "execute_result"
    }
   ],
   "source": [
    "cidades"
   ]
  },
  {
   "cell_type": "code",
   "execution_count": 18,
   "metadata": {},
   "outputs": [],
   "source": [
    "cidades.insert(2, 110)"
   ]
  },
  {
   "cell_type": "code",
   "execution_count": 19,
   "metadata": {},
   "outputs": [
    {
     "data": {
      "text/plain": [
       "['Recife', 'Manaus', 110, 'Salvador', 'Fortaleza', 'Palmas']"
      ]
     },
     "execution_count": 19,
     "metadata": {},
     "output_type": "execute_result"
    }
   ],
   "source": [
    "cidades"
   ]
  },
  {
   "cell_type": "code",
   "execution_count": 20,
   "metadata": {},
   "outputs": [],
   "source": [
    "# Remove um item da lista\n",
    "cidades.remove(110)"
   ]
  },
  {
   "cell_type": "code",
   "execution_count": 21,
   "metadata": {},
   "outputs": [
    {
     "data": {
      "text/plain": [
       "['Recife', 'Manaus', 'Salvador', 'Fortaleza', 'Palmas']"
      ]
     },
     "execution_count": 21,
     "metadata": {},
     "output_type": "execute_result"
    }
   ],
   "source": [
    "cidades"
   ]
  },
  {
   "cell_type": "code",
   "execution_count": 22,
   "metadata": {},
   "outputs": [],
   "source": [
    "# Reverte a lista\n",
    "cidades.reverse()"
   ]
  },
  {
   "cell_type": "code",
   "execution_count": 23,
   "metadata": {},
   "outputs": [
    {
     "data": {
      "text/plain": [
       "['Palmas', 'Fortaleza', 'Salvador', 'Manaus', 'Recife']"
      ]
     },
     "execution_count": 23,
     "metadata": {},
     "output_type": "execute_result"
    }
   ],
   "source": [
    "# Imprime a lista\n",
    "cidades"
   ]
  },
  {
   "cell_type": "code",
   "execution_count": 24,
   "metadata": {},
   "outputs": [],
   "source": [
    "x = [3, 4, 2, 1]"
   ]
  },
  {
   "cell_type": "code",
   "execution_count": 25,
   "metadata": {},
   "outputs": [
    {
     "data": {
      "text/plain": [
       "[3, 4, 2, 1]"
      ]
     },
     "execution_count": 25,
     "metadata": {},
     "output_type": "execute_result"
    }
   ],
   "source": [
    "x"
   ]
  },
  {
   "cell_type": "code",
   "execution_count": 26,
   "metadata": {},
   "outputs": [],
   "source": [
    "# Ordena a lista\n",
    "x.sort()"
   ]
  },
  {
   "cell_type": "code",
   "execution_count": 27,
   "metadata": {},
   "outputs": [
    {
     "data": {
      "text/plain": [
       "[1, 2, 3, 4]"
      ]
     },
     "execution_count": 27,
     "metadata": {},
     "output_type": "execute_result"
    }
   ],
   "source": [
    "x"
   ]
  },
  {
   "cell_type": "markdown",
   "metadata": {},
   "source": [
    "## <font color='blue'>TUPLAS...</font>\n",
    "---\n",
    "### Trabalhando com Tuplas"
   ]
  },
  {
   "cell_type": "code",
   "execution_count": null,
   "metadata": {},
   "outputs": [],
   "source": [
    "# Imprimindo a tupla\n",
    "tupla1"
   ]
  },
  {
   "cell_type": "code",
   "execution_count": null,
   "metadata": {},
   "outputs": [],
   "source": [
    "# Criando uma tupla\n",
    "tupla1 = (\"Geografia\", 23, \"Elefantes\", 9.8, 'Python')"
   ]
  },
  {
   "cell_type": "code",
   "execution_count": null,
   "metadata": {},
   "outputs": [],
   "source": [
    "# Tuplas não suportam append()\n",
    "tupla1.append(\"Chocolate\")   "
   ]
  },
  {
   "cell_type": "code",
   "execution_count": null,
   "metadata": {},
   "outputs": [],
   "source": [
    "# Tuplas não suportam delete de um item específico\n",
    "del tupla1[\"Elefantes\"]  "
   ]
  },
  {
   "cell_type": "code",
   "execution_count": null,
   "metadata": {},
   "outputs": [],
   "source": [
    "# Tuplas podem ter um único item\n",
    "tupla1 = (\"Chocolate\")"
   ]
  },
  {
   "cell_type": "code",
   "execution_count": null,
   "metadata": {},
   "outputs": [],
   "source": [
    "tupla1"
   ]
  },
  {
   "cell_type": "code",
   "execution_count": 28,
   "metadata": {},
   "outputs": [],
   "source": [
    "tupla1 = (\"Geografia\", 23, \"Elefantes\", 9.8, 'Python')"
   ]
  },
  {
   "cell_type": "code",
   "execution_count": 29,
   "metadata": {},
   "outputs": [
    {
     "data": {
      "text/plain": [
       "'Geografia'"
      ]
     },
     "execution_count": 29,
     "metadata": {},
     "output_type": "execute_result"
    }
   ],
   "source": [
    "tupla1[0]"
   ]
  },
  {
   "cell_type": "code",
   "execution_count": 30,
   "metadata": {},
   "outputs": [
    {
     "data": {
      "text/plain": [
       "5"
      ]
     },
     "execution_count": 30,
     "metadata": {},
     "output_type": "execute_result"
    }
   ],
   "source": [
    "# Verificando o comprimento da tupla\n",
    "len(tupla1)"
   ]
  },
  {
   "cell_type": "code",
   "execution_count": null,
   "metadata": {},
   "outputs": [],
   "source": [
    "# Slicing, da mesma forma que se faz com listas\n",
    "tupla1[1:]"
   ]
  },
  {
   "cell_type": "code",
   "execution_count": 31,
   "metadata": {},
   "outputs": [
    {
     "data": {
      "text/plain": [
       "2"
      ]
     },
     "execution_count": 31,
     "metadata": {},
     "output_type": "execute_result"
    }
   ],
   "source": [
    "tupla1.index('Elefantes')"
   ]
  },
  {
   "cell_type": "code",
   "execution_count": null,
   "metadata": {},
   "outputs": [],
   "source": [
    "# Tuplas não suportam atribuição de item\n",
    "tupla1[1] = 21"
   ]
  },
  {
   "cell_type": "code",
   "execution_count": null,
   "metadata": {},
   "outputs": [],
   "source": [
    "# Deletando a tupla\n",
    "del tupla1"
   ]
  },
  {
   "cell_type": "code",
   "execution_count": null,
   "metadata": {},
   "outputs": [],
   "source": [
    "tupla1"
   ]
  },
  {
   "cell_type": "code",
   "execution_count": null,
   "metadata": {},
   "outputs": [],
   "source": [
    "# Criando uma tupla\n",
    "t2 = ('A', 'B', 'C')"
   ]
  },
  {
   "cell_type": "code",
   "execution_count": null,
   "metadata": {},
   "outputs": [],
   "source": [
    "t2"
   ]
  },
  {
   "cell_type": "code",
   "execution_count": 32,
   "metadata": {},
   "outputs": [
    {
     "ename": "NameError",
     "evalue": "name 't2' is not defined",
     "output_type": "error",
     "traceback": [
      "\u001b[1;31m---------------------------------------------------------------------------\u001b[0m",
      "\u001b[1;31mNameError\u001b[0m                                 Traceback (most recent call last)",
      "Cell \u001b[1;32mIn[32], line 2\u001b[0m\n\u001b[0;32m      1\u001b[0m \u001b[38;5;66;03m# Tuplas não suportam atribuição de item\u001b[39;00m\n\u001b[1;32m----> 2\u001b[0m t2[\u001b[38;5;241m0\u001b[39m] \u001b[38;5;241m=\u001b[39m \u001b[38;5;124m'\u001b[39m\u001b[38;5;124mD\u001b[39m\u001b[38;5;124m'\u001b[39m\n",
      "\u001b[1;31mNameError\u001b[0m: name 't2' is not defined"
     ]
    }
   ],
   "source": [
    "# Tuplas não suportam atribuição de item\n",
    "t2[0] = 'D'"
   ]
  },
  {
   "cell_type": "code",
   "execution_count": 33,
   "metadata": {},
   "outputs": [
    {
     "ename": "NameError",
     "evalue": "name 't2' is not defined",
     "output_type": "error",
     "traceback": [
      "\u001b[1;31m---------------------------------------------------------------------------\u001b[0m",
      "\u001b[1;31mNameError\u001b[0m                                 Traceback (most recent call last)",
      "Cell \u001b[1;32mIn[33], line 2\u001b[0m\n\u001b[0;32m      1\u001b[0m \u001b[38;5;66;03m# Usando a função list() para converter uma tupla para lista\u001b[39;00m\n\u001b[1;32m----> 2\u001b[0m lista_t2 \u001b[38;5;241m=\u001b[39m \u001b[38;5;28mlist\u001b[39m(t2)\n",
      "\u001b[1;31mNameError\u001b[0m: name 't2' is not defined"
     ]
    }
   ],
   "source": [
    "# Usando a função list() para converter uma tupla para lista\n",
    "lista_t2 = list(t2)"
   ]
  },
  {
   "cell_type": "code",
   "execution_count": 34,
   "metadata": {},
   "outputs": [
    {
     "ename": "NameError",
     "evalue": "name 't2' is not defined",
     "output_type": "error",
     "traceback": [
      "\u001b[1;31m---------------------------------------------------------------------------\u001b[0m",
      "\u001b[1;31mNameError\u001b[0m                                 Traceback (most recent call last)",
      "Cell \u001b[1;32mIn[34], line 1\u001b[0m\n\u001b[1;32m----> 1\u001b[0m \u001b[38;5;28mtype\u001b[39m(t2)\n",
      "\u001b[1;31mNameError\u001b[0m: name 't2' is not defined"
     ]
    }
   ],
   "source": [
    "type(t2)"
   ]
  },
  {
   "cell_type": "code",
   "execution_count": null,
   "metadata": {},
   "outputs": [],
   "source": [
    "type(lista_t2)"
   ]
  },
  {
   "cell_type": "code",
   "execution_count": null,
   "metadata": {},
   "outputs": [],
   "source": [
    "lista_t2"
   ]
  },
  {
   "cell_type": "code",
   "execution_count": 35,
   "metadata": {},
   "outputs": [
    {
     "ename": "NameError",
     "evalue": "name 'lista_t2' is not defined",
     "output_type": "error",
     "traceback": [
      "\u001b[1;31m---------------------------------------------------------------------------\u001b[0m",
      "\u001b[1;31mNameError\u001b[0m                                 Traceback (most recent call last)",
      "Cell \u001b[1;32mIn[35], line 1\u001b[0m\n\u001b[1;32m----> 1\u001b[0m lista_t2\u001b[38;5;241m.\u001b[39mappend(\u001b[38;5;124m'\u001b[39m\u001b[38;5;124mD\u001b[39m\u001b[38;5;124m'\u001b[39m)\n",
      "\u001b[1;31mNameError\u001b[0m: name 'lista_t2' is not defined"
     ]
    }
   ],
   "source": [
    "lista_t2.append('D')"
   ]
  },
  {
   "cell_type": "code",
   "execution_count": null,
   "metadata": {},
   "outputs": [],
   "source": [
    "# Usando a função tuple() para converter uma lista para tupla\n",
    "t2 = tuple(lista_t2)"
   ]
  },
  {
   "cell_type": "code",
   "execution_count": null,
   "metadata": {},
   "outputs": [],
   "source": [
    "t2"
   ]
  },
  {
   "cell_type": "markdown",
   "metadata": {},
   "source": [
    "### Funções Built-in"
   ]
  },
  {
   "cell_type": "markdown",
   "metadata": {},
   "source": [
    "![Tuplas](tuplas.jpg)"
   ]
  },
  {
   "cell_type": "markdown",
   "metadata": {},
   "source": [
    "## <font color='blue'>DICIONÁRIOS...</font>\n",
    "---\n",
    "### Trabalhando com Dicionários"
   ]
  },
  {
   "cell_type": "markdown",
   "metadata": {},
   "source": [
    "![Dicionários](dicionarios.jpg)"
   ]
  },
  {
   "cell_type": "code",
   "execution_count": null,
   "metadata": {},
   "outputs": [],
   "source": [
    "# Isso é uma lista\n",
    "estudantes_lst = [\"Pedro\", 24, \"Ana\", 22, \"Ronaldo\", 26, \"Janaina\", 25]   "
   ]
  },
  {
   "cell_type": "code",
   "execution_count": null,
   "metadata": {},
   "outputs": [],
   "source": [
    "estudantes_lst"
   ]
  },
  {
   "cell_type": "code",
   "execution_count": null,
   "metadata": {},
   "outputs": [],
   "source": [
    "type(estudantes_lst)"
   ]
  },
  {
   "cell_type": "code",
   "execution_count": null,
   "metadata": {},
   "outputs": [],
   "source": [
    "# Isso é um dicionário\n",
    "estudantes_dict = {\"Pedro\":24, \"Ana\":22, \"Ronaldo\":26, \"Janaina\":25}"
   ]
  },
  {
   "cell_type": "code",
   "execution_count": null,
   "metadata": {},
   "outputs": [],
   "source": [
    "estudantes_dict "
   ]
  },
  {
   "cell_type": "code",
   "execution_count": null,
   "metadata": {},
   "outputs": [],
   "source": [
    "type(estudantes_dict)"
   ]
  },
  {
   "cell_type": "code",
   "execution_count": null,
   "metadata": {},
   "outputs": [],
   "source": [
    "estudantes_dict[\"Pedro\"]"
   ]
  },
  {
   "cell_type": "code",
   "execution_count": null,
   "metadata": {},
   "outputs": [],
   "source": [
    "estudantes_dict[\"Marcelo\"] = 23"
   ]
  },
  {
   "cell_type": "code",
   "execution_count": null,
   "metadata": {},
   "outputs": [],
   "source": [
    "estudantes_dict[\"Marcelo\"]"
   ]
  },
  {
   "cell_type": "code",
   "execution_count": null,
   "metadata": {},
   "outputs": [],
   "source": [
    "estudantes_dict "
   ]
  },
  {
   "cell_type": "code",
   "execution_count": null,
   "metadata": {},
   "outputs": [],
   "source": [
    "estudantes_dict.clear()"
   ]
  },
  {
   "cell_type": "code",
   "execution_count": null,
   "metadata": {},
   "outputs": [],
   "source": [
    "estudantes_dict"
   ]
  },
  {
   "cell_type": "code",
   "execution_count": null,
   "metadata": {},
   "outputs": [],
   "source": [
    "del estudantes_dict"
   ]
  },
  {
   "cell_type": "code",
   "execution_count": null,
   "metadata": {},
   "outputs": [],
   "source": [
    "estudantes_dict"
   ]
  },
  {
   "cell_type": "code",
   "execution_count": null,
   "metadata": {},
   "outputs": [],
   "source": [
    "estudantes = {\"Pedro\":24, \"Ana\":22, \"Ronaldo\":26, \"Janaina\":25}"
   ]
  },
  {
   "cell_type": "code",
   "execution_count": null,
   "metadata": {},
   "outputs": [],
   "source": [
    "estudantes"
   ]
  },
  {
   "cell_type": "code",
   "execution_count": null,
   "metadata": {},
   "outputs": [],
   "source": [
    "len(estudantes)"
   ]
  },
  {
   "cell_type": "code",
   "execution_count": null,
   "metadata": {},
   "outputs": [],
   "source": [
    "estudantes.keys()"
   ]
  },
  {
   "cell_type": "code",
   "execution_count": null,
   "metadata": {},
   "outputs": [],
   "source": [
    "estudantes.values()"
   ]
  },
  {
   "cell_type": "code",
   "execution_count": null,
   "metadata": {},
   "outputs": [],
   "source": [
    "estudantes.items()"
   ]
  },
  {
   "cell_type": "code",
   "execution_count": null,
   "metadata": {},
   "outputs": [],
   "source": [
    "estudantes2 = {\"Camila\":27, \"Adriana\":28, \"Roberta\":26}"
   ]
  },
  {
   "cell_type": "code",
   "execution_count": null,
   "metadata": {},
   "outputs": [],
   "source": [
    "estudantes2"
   ]
  },
  {
   "cell_type": "code",
   "execution_count": null,
   "metadata": {},
   "outputs": [],
   "source": [
    "estudantes.update(estudantes2)"
   ]
  },
  {
   "cell_type": "code",
   "execution_count": null,
   "metadata": {},
   "outputs": [],
   "source": [
    "estudantes"
   ]
  },
  {
   "cell_type": "code",
   "execution_count": null,
   "metadata": {},
   "outputs": [],
   "source": [
    "dic1 = {}"
   ]
  },
  {
   "cell_type": "code",
   "execution_count": null,
   "metadata": {},
   "outputs": [],
   "source": [
    "dic1"
   ]
  },
  {
   "cell_type": "code",
   "execution_count": null,
   "metadata": {},
   "outputs": [],
   "source": [
    "dic1[\"chave_um\"] = 2"
   ]
  },
  {
   "cell_type": "code",
   "execution_count": null,
   "metadata": {},
   "outputs": [],
   "source": [
    "print(dic1)"
   ]
  },
  {
   "cell_type": "code",
   "execution_count": null,
   "metadata": {},
   "outputs": [],
   "source": [
    "dic1[10] = 5"
   ]
  },
  {
   "cell_type": "code",
   "execution_count": null,
   "metadata": {},
   "outputs": [],
   "source": [
    "dic1"
   ]
  },
  {
   "cell_type": "code",
   "execution_count": null,
   "metadata": {},
   "outputs": [],
   "source": [
    "dic1[9.13] = \"Python\""
   ]
  },
  {
   "cell_type": "code",
   "execution_count": null,
   "metadata": {},
   "outputs": [],
   "source": [
    "dic1"
   ]
  },
  {
   "cell_type": "code",
   "execution_count": null,
   "metadata": {},
   "outputs": [],
   "source": [
    "dic1[\"teste\"] = 5"
   ]
  },
  {
   "cell_type": "code",
   "execution_count": null,
   "metadata": {},
   "outputs": [],
   "source": [
    "dic1"
   ]
  },
  {
   "cell_type": "code",
   "execution_count": null,
   "metadata": {},
   "outputs": [],
   "source": [
    "dict1 = {}"
   ]
  },
  {
   "cell_type": "code",
   "execution_count": null,
   "metadata": {},
   "outputs": [],
   "source": [
    "dict1"
   ]
  },
  {
   "cell_type": "code",
   "execution_count": null,
   "metadata": {},
   "outputs": [],
   "source": [
    "dict1[\"teste\"] = 10"
   ]
  },
  {
   "cell_type": "code",
   "execution_count": null,
   "metadata": {},
   "outputs": [],
   "source": [
    "dict1[\"key\"] = \"teste\""
   ]
  },
  {
   "cell_type": "code",
   "execution_count": null,
   "metadata": {},
   "outputs": [],
   "source": [
    "# Atenção, pois chave e valor podem ser iguais, mas representam coisas diferentes.\n",
    "dict1"
   ]
  },
  {
   "cell_type": "code",
   "execution_count": null,
   "metadata": {},
   "outputs": [],
   "source": [
    "dict2 = {}"
   ]
  },
  {
   "cell_type": "code",
   "execution_count": 154,
   "metadata": {},
   "outputs": [],
   "source": [
    "dict2 = {}\n",
    "dict2[\"key1\"] = \"Data Science\""
   ]
  },
  {
   "cell_type": "code",
   "execution_count": 156,
   "metadata": {},
   "outputs": [],
   "source": [
    "dict2[\"key2\"] = 10, 11"
   ]
  },
  {
   "cell_type": "code",
   "execution_count": 157,
   "metadata": {},
   "outputs": [],
   "source": [
    "dict2[\"key3\"] = 100"
   ]
  },
  {
   "cell_type": "code",
   "execution_count": 158,
   "metadata": {},
   "outputs": [
    {
     "data": {
      "text/plain": [
       "{'key1': 'Data Science', 'key2': (10, 11), 'key3': 100}"
      ]
     },
     "execution_count": 158,
     "metadata": {},
     "output_type": "execute_result"
    }
   ],
   "source": [
    "dict2"
   ]
  },
  {
   "cell_type": "code",
   "execution_count": null,
   "metadata": {},
   "outputs": [],
   "source": [
    "a = dict2[\"key1\"]"
   ]
  },
  {
   "cell_type": "code",
   "execution_count": null,
   "metadata": {},
   "outputs": [],
   "source": [
    "b = dict2[\"key2\"]"
   ]
  },
  {
   "cell_type": "code",
   "execution_count": null,
   "metadata": {},
   "outputs": [],
   "source": [
    "c = dict2[\"key3\"]"
   ]
  },
  {
   "cell_type": "code",
   "execution_count": null,
   "metadata": {},
   "outputs": [],
   "source": [
    "a, b, c"
   ]
  },
  {
   "cell_type": "code",
   "execution_count": null,
   "metadata": {},
   "outputs": [],
   "source": [
    "# Dicionário de listas\n",
    "dict3 = {'chave1':1230, 'chave2':[22,453,73.4], 'chave3':['picanha', 'fraldinha', 'alcatra']}"
   ]
  },
  {
   "cell_type": "code",
   "execution_count": null,
   "metadata": {},
   "outputs": [],
   "source": [
    "dict3"
   ]
  },
  {
   "cell_type": "code",
   "execution_count": null,
   "metadata": {},
   "outputs": [],
   "source": [
    "dict3['chave2']"
   ]
  },
  {
   "cell_type": "code",
   "execution_count": null,
   "metadata": {},
   "outputs": [],
   "source": [
    "# Acessando um item da lista, dentro do dicionário\n",
    "dict3['chave3'][0].upper()"
   ]
  },
  {
   "cell_type": "code",
   "execution_count": null,
   "metadata": {},
   "outputs": [],
   "source": [
    "# Operações com itens da lista, dentro do dicionário\n",
    "var1 = dict3['chave2'][0] - 2"
   ]
  },
  {
   "cell_type": "code",
   "execution_count": null,
   "metadata": {},
   "outputs": [],
   "source": [
    "var1"
   ]
  },
  {
   "cell_type": "code",
   "execution_count": null,
   "metadata": {},
   "outputs": [],
   "source": [
    "# Duas operações no mesmo comando, para atualizar um item dentro da lista\n",
    "dict3['chave2'][0] -= 2"
   ]
  },
  {
   "cell_type": "code",
   "execution_count": null,
   "metadata": {},
   "outputs": [],
   "source": [
    "dict3"
   ]
  },
  {
   "cell_type": "markdown",
   "metadata": {},
   "source": [
    "#### Criando Dicionários Aninhados"
   ]
  },
  {
   "cell_type": "code",
   "execution_count": 36,
   "metadata": {},
   "outputs": [],
   "source": [
    "# Criando dicionários aninhados\n",
    "dict_aninhado = {'key1':{'key2_aninhada':{'key3_aninhada':'Dict aninhado em Python'}}}"
   ]
  },
  {
   "cell_type": "code",
   "execution_count": 37,
   "metadata": {},
   "outputs": [
    {
     "data": {
      "text/plain": [
       "{'key1': {'key2_aninhada': {'key3_aninhada': 'Dict aninhado em Python'}}}"
      ]
     },
     "execution_count": 37,
     "metadata": {},
     "output_type": "execute_result"
    }
   ],
   "source": [
    "dict_aninhado"
   ]
  },
  {
   "cell_type": "code",
   "execution_count": 38,
   "metadata": {},
   "outputs": [
    {
     "data": {
      "text/plain": [
       "'Dict aninhado em Python'"
      ]
     },
     "execution_count": 38,
     "metadata": {},
     "output_type": "execute_result"
    }
   ],
   "source": [
    "dict_aninhado['key1']['key2_aninhada']['key3_aninhada']"
   ]
  },
  {
   "cell_type": "markdown",
   "metadata": {},
   "source": [
    "### Funções Built-in"
   ]
  },
  {
   "cell_type": "markdown",
   "metadata": {},
   "source": [
    "![Dicionários](dict.jpg)"
   ]
  },
  {
   "cell_type": "markdown",
   "metadata": {},
   "source": [
    "## <font color='blue'>EXERCÍCIOS...</font>\n",
    "---\n",
    "### Exercícios sobre Listas"
   ]
  },
  {
   "cell_type": "markdown",
   "metadata": {},
   "source": [
    "1. Faça um algoritmo que carregue um vetor de 10 elementos numéricos inteiros. Após a finalização da entrada, o algoritmo deve escrever o mesmo vetor, na ordem inversa de entrada."
   ]
  },
  {
   "cell_type": "code",
   "execution_count": 58,
   "metadata": {},
   "outputs": [
    {
     "name": "stdout",
     "output_type": "stream",
     "text": [
      "[10, 9, 8, 7, 6, 5, 4, 3, 2, 1]\n"
     ]
    }
   ],
   "source": [
    "lista = [1, 2, 3, 4, 5, 6, 7, 8, 9, 10]\n",
    "lista.reverse()\n",
    "print(lista)\n"
   ]
  },
  {
   "cell_type": "markdown",
   "metadata": {},
   "source": [
    "2. Faça um algorimto que carregue um vetor de 5 elementos numéricos inteiros. Após a finalização da entrada, o algoritmo deve escrever o maior valor e sua posição.\n"
   ]
  },
  {
   "cell_type": "code",
   "execution_count": 68,
   "metadata": {},
   "outputs": [
    {
     "name": "stdout",
     "output_type": "stream",
     "text": [
      "O maior valor é 5 e sua posição é 4\n"
     ]
    }
   ],
   "source": [
    "lista1 = [1, 2, 3, 4, 5]\n",
    "for i in range(len(lista1)+1):\n",
    "    cont = i\n",
    "    if lista[i] > cont:\n",
    "        res = cont\n",
    "        pos = i \n",
    "\n",
    "print(f'O maior valor é {cont} e sua posição é {pos}')\n",
    "    "
   ]
  },
  {
   "cell_type": "markdown",
   "metadata": {},
   "source": [
    "3. Faça algoritmo que carregue dois vetores (listas) de cinco elementos numéricos cada um e mostre um vetor resultante na intercalação desses dois vetores"
   ]
  },
  {
   "cell_type": "code",
   "execution_count": 72,
   "metadata": {},
   "outputs": [
    {
     "data": {
      "text/plain": [
       "[1, 2, 3, 4, 5, 6, 7, 8, 9, 10]"
      ]
     },
     "execution_count": 72,
     "metadata": {},
     "output_type": "execute_result"
    }
   ],
   "source": [
    "list2 = [6, 7, 8, 9, 10]\n",
    "list3 = lista1 + list2\n",
    "list3"
   ]
  },
  {
   "cell_type": "code",
   "execution_count": 73,
   "metadata": {},
   "outputs": [
    {
     "name": "stdout",
     "output_type": "stream",
     "text": [
      "15\n"
     ]
    }
   ],
   "source": [
    "# Exemplo de geração de números aleatórios (randômicos) entre 1 e 60\n",
    "from random import randint\n",
    "a = randint(1, 60)\n",
    "print(a)"
   ]
  },
  {
   "cell_type": "code",
   "execution_count": 75,
   "metadata": {},
   "outputs": [
    {
     "name": "stdout",
     "output_type": "stream",
     "text": [
      "1 1 1 3 4 2 2 5 3 5 "
     ]
    }
   ],
   "source": [
    "# Exemplo de geração de 10 jogadas de dados\n",
    "from random import randint\n",
    "# Gerando 10 jogadas\n",
    "for i in range (0,10):\n",
    "    lado = randint(1, 6)\n",
    "    print(lado, end=\" \")"
   ]
  },
  {
   "cell_type": "markdown",
   "metadata": {},
   "source": [
    "4. Faça um Algoritmo que simule 6000 jogadas de um dado de 6 faces. Para simular o resultado utilize a função randint  Ao final, mostre a frequência de sorteio de cada uma das faces  \n"
   ]
  },
  {
   "cell_type": "code",
   "execution_count": 108,
   "metadata": {
    "scrolled": true
   },
   "outputs": [
    {
     "name": "stdout",
     "output_type": "stream",
     "text": [
      "1 3 6 3 1 5 4 3 4 3 6 4 3 6 2 3 5 3 6 4 4 3 2 6 4 5 6 5 2 3 2 5 2 6 1 2 6 1 4 3 2 5 2 5 6 6 5 5 3 6 1 6 1 2 6 3 1 2 6 3 1 1 2 4 5 6 1 4 5 5 4 5 5 6 1 3 6 6 1 2 5 6 1 2 2 4 3 6 4 6 2 6 1 5 1 3 6 2 4 4 6 4 3 1 1 2 2 1 3 6 4 2 5 6 1 6 2 1 5 2 5 2 2 1 6 5 1 5 5 3 6 4 1 4 3 3 1 1 4 4 6 4 6 2 3 6 1 4 1 4 5 3 1 2 4 2 1 1 2 2 5 2 5 5 4 3 1 6 5 4 6 3 3 1 3 4 2 1 4 1 4 1 1 4 3 1 1 1 6 2 2 4 3 3 5 5 5 6 6 4 5 4 5 2 3 5 3 4 4 4 4 6 6 4 1 6 3 5 4 3 3 5 2 5 1 3 5 1 1 2 3 2 5 2 1 2 3 6 2 1 5 3 6 1 4 3 4 1 1 4 5 4 6 6 1 3 4 5 6 4 1 3 4 2 3 2 4 5 5 3 6 4 5 6 1 1 5 4 1 3 1 4 1 6 1 1 4 2 5 5 3 2 2 3 3 6 4 6 3 2 4 6 3 2 5 3 5 5 3 6 4 2 3 3 4 2 3 6 2 2 4 1 2 5 3 6 4 3 3 6 3 6 2 4 6 6 4 2 2 3 1 2 2 4 3 3 3 5 6 4 2 6 6 4 1 3 4 2 5 6 5 5 6 5 4 2 3 4 5 3 1 6 1 6 1 6 1 2 3 1 4 3 1 2 6 2 6 6 5 4 1 5 5 3 4 1 2 6 3 1 5 3 6 6 1 5 3 6 6 1 3 3 3 1 3 1 2 3 4 4 5 2 1 4 6 4 2 4 6 3 2 6 4 1 3 3 5 1 5 1 6 6 2 3 5 6 5 2 6 1 5 1 3 1 2 3 1 2 5 6 6 2 2 4 3 1 2 3 2 5 3 2 4 6 2 5 5 1 4 6 5 2 4 3 6 4 5 3 1 1 3 2 4 2 6 4 6 1 5 6 1 5 2 5 6 1 6 5 2 2 3 3 3 5 2 4 6 1 2 4 2 1 3 5 6 3 6 2 1 6 1 6 5 4 3 6 3 6 4 5 2 5 3 5 4 6 3 3 2 3 6 6 1 6 1 2 2 3 2 1 3 6 2 2 6 2 1 6 1 5 4 2 5 6 1 4 4 3 5 1 4 3 5 3 5 4 1 6 5 1 4 3 6 1 1 1 2 6 5 3 5 1 4 1 1 3 4 4 6 3 2 5 6 6 6 5 1 6 4 1 1 6 3 2 5 2 3 4 1 1 2 2 6 5 5 4 3 3 3 3 6 1 1 1 2 4 5 4 2 4 4 4 2 6 6 3 3 1 5 5 1 1 4 6 2 2 6 6 4 1 3 2 4 6 4 2 3 5 1 4 1 6 3 5 3 6 4 6 4 5 6 5 4 2 3 2 2 6 2 4 2 1 1 4 6 3 5 6 3 1 5 5 4 5 5 3 3 1 1 4 1 2 2 5 6 5 3 3 2 3 5 1 4 6 3 6 4 6 2 2 6 2 6 5 1 3 3 4 1 5 1 2 5 1 5 4 4 5 4 2 3 1 1 3 5 3 6 5 4 4 5 1 3 1 6 4 1 4 2 2 5 3 6 2 6 3 6 3 5 5 5 6 6 2 1 1 1 3 1 2 4 6 5 5 5 4 4 5 3 1 6 6 4 4 3 3 2 2 2 2 2 5 1 3 1 5 2 5 5 2 4 4 2 4 1 1 1 1 5 6 6 6 6 3 6 2 4 3 2 3 3 3 4 3 4 4 5 1 4 6 2 5 5 1 1 1 6 3 3 4 5 5 3 4 1 2 2 5 3 5 5 3 6 3 4 4 3 4 1 2 1 1 4 1 5 5 1 1 2 4 3 3 1 2 6 1 3 5 5 3 2 6 1 6 4 4 2 5 1 3 3 4 4 5 2 1 4 1 4 3 3 6 4 5 1 3 2 1 6 5 5 5 2 3 1 1 2 6 6 1 4 1 2 2 1 5 4 5 3 5 6 5 2 4 5 5 2 1 3 3 6 6 5 5 6 2 6 2 6 6 1 6 5 4 6 6 4 6 5 2 4 4 1 4 5 5 5 2 6 3 4 6 1 2 6 4 2 6 4 2 5 6 3 6 1 3 2 5 2 2 6 4 4 1 6 3 4 3 3 4 6 5 3 4 2 5 3 3 4 5 2 1 4 4 2 3 6 5 4 1 2 6 6 1 3 3 6 2 2 4 4 2 4 6 6 4 1 2 2 6 2 2 2 2 1 1 4 3 2 6 6 1 2 4 3 6 1 4 3 3 6 3 4 1 5 4 3 4 1 6 5 1 5 6 6 1 1 4 5 3 2 1 4 1 6 2 1 3 5 3 5 2 5 6 6 1 5 6 6 3 1 4 1 5 1 3 3 6 1 4 4 6 2 3 3 3 4 1 2 4 5 4 4 5 4 3 6 3 6 3 1 6 6 6 1 5 2 6 6 6 6 1 2 1 2 5 1 6 5 5 4 2 1 3 5 6 4 3 5 1 1 1 2 3 4 3 3 2 4 3 6 5 3 6 5 1 1 5 2 5 2 1 5 5 5 2 2 5 5 1 1 1 6 1 5 2 2 2 4 5 1 6 4 5 6 5 4 5 3 4 1 5 2 5 3 4 2 6 6 5 2 6 2 4 3 3 1 2 6 3 5 4 2 2 1 5 4 2 2 4 6 6 5 3 4 6 4 5 4 6 4 2 6 4 4 1 3 1 3 2 1 5 3 3 1 4 1 1 2 6 3 3 6 3 1 1 4 2 5 4 4 5 2 1 3 3 2 3 4 6 6 6 5 4 6 3 1 1 3 2 3 3 2 3 2 5 4 3 3 1 4 5 6 6 5 2 4 6 4 2 1 5 2 5 5 4 3 3 6 2 6 4 6 1 1 1 6 5 5 6 4 6 4 3 4 2 5 3 5 2 4 1 3 3 1 3 1 3 6 6 2 4 3 5 5 4 1 3 4 3 4 5 2 3 6 5 1 3 5 2 6 1 4 3 6 6 5 4 3 5 1 6 3 4 1 1 3 6 6 6 5 6 5 5 1 1 4 6 4 4 1 4 5 6 3 5 1 1 4 4 4 6 1 4 2 6 1 3 3 4 2 1 5 1 6 1 4 2 4 3 2 1 3 6 2 5 1 6 4 4 5 2 5 6 3 4 2 5 4 3 6 6 2 6 3 3 3 4 6 2 2 4 1 4 1 2 3 5 1 1 4 2 4 4 2 3 4 5 2 5 5 4 4 1 2 2 6 3 3 5 3 5 4 1 2 3 3 2 4 1 4 2 2 5 6 1 6 5 3 4 2 5 1 2 6 6 3 1 3 6 1 3 1 3 1 3 4 3 6 3 3 4 4 3 4 5 4 4 4 5 6 6 4 2 3 1 3 4 3 1 4 1 1 3 6 6 6 6 3 3 6 1 6 1 6 3 2 2 3 3 3 5 2 2 6 4 2 4 2 2 5 2 5 4 4 2 1 1 1 5 1 3 3 6 2 5 5 6 5 1 1 3 3 2 1 6 4 6 6 3 1 4 5 3 2 6 4 5 6 4 1 1 1 1 5 5 5 2 5 3 1 2 1 1 1 6 5 1 4 2 5 1 5 2 6 3 5 5 4 1 5 2 2 2 1 1 4 4 4 3 6 3 5 4 5 4 1 1 4 4 2 5 6 1 5 6 1 5 2 1 4 4 6 2 1 2 3 5 5 5 4 2 4 2 6 4 4 6 1 4 3 3 6 5 5 3 5 3 6 6 2 2 3 5 1 6 1 5 4 3 1 3 1 4 5 5 6 6 1 2 4 5 2 4 6 1 5 5 1 5 2 4 3 5 6 6 5 5 1 1 5 2 2 5 6 3 1 1 1 6 1 3 5 3 3 5 6 3 5 2 6 2 4 2 1 1 1 3 5 1 2 3 3 3 6 1 3 4 1 4 4 5 6 4 4 6 4 3 4 4 6 6 4 4 2 5 6 6 3 4 1 4 5 3 1 6 3 5 4 4 6 2 1 6 5 3 3 2 3 3 2 2 4 6 6 4 6 5 5 1 5 4 4 6 1 2 2 3 6 5 2 4 3 1 5 3 4 2 6 1 6 6 3 1 3 2 3 3 1 1 2 4 4 5 4 4 5 2 2 4 5 3 6 6 4 1 6 6 3 4 4 6 4 1 2 4 2 2 2 3 1 4 6 2 6 5 3 2 2 1 3 3 1 1 3 6 2 5 4 3 2 3 2 5 2 3 6 6 2 5 4 6 1 2 5 4 3 4 1 4 5 1 6 6 4 2 2 5 1 4 5 4 5 1 1 1 1 1 6 2 3 6 5 6 3 3 2 5 4 3 1 4 1 1 3 5 6 4 5 6 1 3 1 2 6 1 6 5 1 2 5 5 2 3 4 1 1 1 1 5 2 1 2 2 4 2 5 4 4 2 3 2 2 3 1 4 3 6 5 2 6 3 2 5 3 4 6 1 3 1 4 5 1 6 5 1 6 1 2 3 1 1 6 3 2 1 5 6 6 1 1 2 5 4 4 1 3 1 1 6 1 3 3 5 5 4 4 4 2 6 2 3 1 1 1 5 5 4 6 5 4 2 2 4 5 5 5 3 4 2 1 6 4 2 1 4 5 2 2 1 2 2 3 4 4 6 2 4 2 3 2 2 1 4 4 5 6 5 4 5 1 2 2 5 5 3 4 6 1 6 2 4 5 3 4 3 5 6 4 2 2 3 2 3 3 6 2 3 3 5 6 2 3 1 1 2 6 5 5 4 4 4 2 3 1 1 6 6 2 5 3 5 6 5 5 4 6 2 2 2 1 5 6 6 1 6 3 2 4 6 3 1 4 4 4 6 6 6 3 4 4 1 5 4 5 1 4 2 6 4 4 3 1 6 2 6 6 2 1 5 4 1 1 3 4 5 5 2 4 6 3 1 1 4 6 5 2 2 2 6 1 3 4 2 6 1 5 5 1 6 3 6 4 2 3 2 4 5 1 1 4 5 2 1 1 2 6 5 5 2 6 3 6 2 1 3 3 6 5 3 5 3 3 4 5 4 2 4 3 3 6 4 4 1 6 6 2 6 3 5 3 1 4 5 6 5 3 4 4 6 6 3 5 2 3 6 6 1 3 5 5 2 1 5 2 3 2 5 1 4 5 3 2 2 6 3 5 2 6 1 1 4 6 6 3 3 4 2 6 3 5 2 3 2 3 2 4 4 2 4 1 2 5 1 6 6 3 1 6 4 3 5 5 4 3 3 4 4 2 5 3 1 4 6 2 6 6 1 5 6 6 3 6 2 4 5 5 4 5 6 5 4 2 4 1 2 4 6 6 1 2 6 3 5 5 1 1 3 3 4 5 5 2 4 1 3 1 4 6 3 3 4 6 5 4 2 1 2 5 3 2 2 3 4 1 1 2 6 3 2 4 4 4 6 6 3 4 5 1 1 3 2 5 5 3 6 4 1 3 5 5 5 6 6 2 5 5 5 4 6 6 5 2 3 3 5 2 3 2 4 4 6 4 4 6 5 6 1 2 3 4 6 4 4 3 1 3 5 1 6 3 6 5 3 6 6 5 1 5 5 6 4 1 6 5 4 6 3 6 1 4 4 5 3 4 5 6 3 2 6 1 2 6 3 2 6 2 3 3 2 6 5 6 5 6 5 5 1 5 2 4 4 4 1 6 5 1 3 1 5 6 6 1 2 5 6 3 4 5 1 6 5 6 2 6 5 4 5 1 5 4 2 4 4 4 6 3 4 4 6 4 3 6 2 4 6 4 5 3 3 5 2 3 3 4 1 5 6 5 4 5 1 2 3 4 2 1 4 5 4 1 5 3 6 3 1 3 3 3 4 3 4 4 5 5 1 1 6 6 6 5 1 4 5 4 5 1 3 3 4 2 3 1 2 6 5 3 4 5 6 5 2 3 4 3 4 4 4 4 1 2 3 2 1 2 6 5 2 5 4 3 5 6 4 2 1 4 6 2 4 5 4 2 1 3 4 3 1 6 6 4 1 1 4 6 4 6 6 5 3 6 6 1 4 2 6 3 6 1 2 1 3 4 2 4 5 6 3 2 5 2 3 2 6 1 1 4 1 4 5 3 4 2 1 3 1 2 5 4 5 5 1 5 6 5 6 6 6 3 5 3 3 5 3 5 1 6 1 3 3 1 3 1 1 5 1 2 4 3 4 1 6 1 1 5 3 5 6 1 1 2 2 3 3 1 2 6 2 2 4 3 4 6 5 1 5 2 6 6 2 4 5 3 1 6 3 1 2 5 6 5 3 3 1 6 2 5 1 3 3 6 4 2 2 1 2 1 6 6 4 6 6 6 6 5 3 4 6 6 6 4 6 2 4 5 4 1 2 3 3 2 5 2 5 1 3 4 4 3 6 6 6 3 6 5 4 2 4 6 6 3 4 5 5 3 3 5 6 6 3 5 3 4 2 2 3 4 5 5 4 4 5 5 1 1 5 3 5 2 2 4 5 5 1 3 2 4 6 4 1 6 1 1 2 3 5 4 3 1 2 4 4 3 5 1 5 1 1 4 6 3 2 3 6 2 6 5 4 5 5 6 2 6 1 4 4 2 3 2 4 6 5 4 2 2 2 6 4 6 4 3 1 1 2 3 3 3 6 3 1 6 5 1 2 1 2 2 4 4 6 4 2 5 5 6 6 2 2 4 5 4 4 3 1 6 6 5 2 5 6 4 4 2 5 5 2 3 1 1 4 2 5 4 5 6 3 3 1 1 2 6 6 2 6 6 6 1 5 2 6 5 1 3 4 1 3 5 4 5 6 5 4 3 6 1 4 1 5 5 4 4 2 1 4 5 4 2 1 3 6 6 6 5 4 4 3 6 3 5 6 2 6 2 2 3 1 3 2 3 1 6 1 3 4 5 5 3 2 3 6 4 3 1 5 1 4 1 4 3 5 1 3 3 6 3 6 6 1 2 5 1 4 4 1 5 5 3 5 6 1 3 2 6 6 3 2 2 4 5 4 5 3 5 2 1 1 3 6 5 6 6 6 3 5 3 5 2 4 2 4 6 4 6 2 1 5 5 1 1 6 3 6 2 1 6 6 4 4 1 4 1 4 5 5 3 4 3 2 5 2 5 6 4 3 4 6 4 6 4 3 2 6 5 1 5 6 6 3 3 6 4 3 2 4 3 6 2 6 5 1 4 3 5 6 5 3 2 4 4 5 3 6 3 2 1 3 4 4 4 5 4 1 6 5 5 1 3 4 4 3 5 2 2 2 4 2 4 4 2 3 3 6 3 6 4 2 6 6 5 2 6 5 1 2 6 3 3 2 6 3 1 4 6 6 6 6 1 6 5 6 2 3 5 1 5 6 1 4 6 6 6 6 3 1 5 1 4 6 5 3 6 6 2 3 2 5 2 3 3 6 2 1 6 5 5 6 6 4 6 3 2 1 5 5 4 5 1 5 6 3 6 3 1 6 4 1 3 1 5 3 5 5 2 1 5 1 3 4 4 5 2 1 2 3 6 5 5 2 4 3 1 3 5 3 5 3 1 1 3 5 4 3 6 2 2 5 5 6 6 6 3 5 5 3 2 6 4 5 2 6 4 5 4 5 5 2 6 3 2 3 3 5 1 3 4 1 4 2 2 5 2 2 2 2 1 1 1 6 5 6 1 5 6 2 1 5 2 2 3 1 1 2 2 1 3 6 4 6 6 5 4 2 4 2 6 1 3 1 3 2 6 5 3 1 1 4 1 5 3 2 3 2 6 2 5 1 4 4 4 2 2 5 4 2 4 1 4 6 6 6 2 6 2 4 1 1 5 4 2 6 2 3 2 3 5 3 3 5 3 5 6 5 1 2 4 6 1 5 6 1 5 6 6 1 5 5 2 5 1 1 3 4 1 1 5 4 3 5 3 5 3 1 2 3 2 2 3 2 5 1 5 3 5 4 6 5 3 5 3 6 4 2 4 3 5 6 1 6 1 1 1 3 4 5 6 1 6 2 6 3 4 3 4 6 5 1 2 5 6 2 3 6 1 5 2 4 3 6 6 1 1 4 3 1 5 4 4 6 6 4 2 6 6 1 6 2 4 1 3 3 5 4 4 1 3 6 3 2 3 4 5 5 3 6 1 3 3 5 3 3 4 1 1 1 4 2 2 1 1 2 5 6 5 2 5 4 4 3 3 3 4 3 5 6 2 3 2 3 4 6 2 3 3 6 5 5 6 3 2 3 6 4 4 4 5 1 5 3 3 3 3 2 4 3 6 3 3 5 3 1 3 5 6 5 1 6 6 3 1 6 2 4 4 5 4 4 6 4 5 4 1 6 2 6 4 6 3 4 1 5 1 4 4 2 5 5 3 6 1 4 2 2 3 1 1 4 4 4 6 4 1 1 3 1 5 3 2 6 1 3 2 3 1 2 1 3 1 6 4 2 6 5 6 1 4 6 1 4 4 1 2 3 4 6 2 1 4 1 4 1 6 6 5 3 6 1 1 6 2 6 2 6 1 6 1 5 6 6 5 4 1 2 3 6 4 1 5 1 3 1 5 1 2 5 5 2 4 5 1 3 1 3 5 1 1 5 6 5 3 5 2 1 5 6 6 5 5 2 1 5 1 6 5 2 3 1 4 5 1 3 5 1 4 6 5 3 4 4 6 4 6 1 1 6 3 5 6 4 6 2 6 6 6 5 1 6 3 2 2 3 2 5 3 5 1 6 5 1 4 3 2 3 4 2 2 3 1 1 5 2 3 5 3 1 6 5 1 3 6 5 1 2 2 4 1 6 6 2 4 3 3 2 4 3 1 1 5 5 3 5 4 4 3 6 2 3 2 2 5 1 2 3 2 1 6 5 6 6 5 6 3 1 6 4 5 5 1 5 5 2 2 3 5 6 4 3 3 2 6 1 4 3 1 1 4 3 5 6 2 3 5 1 5 3 6 2 5 1 1 2 6 6 2 1 2 2 5 3 3 1 3 6 2 2 2 2 4 4 1 1 5 5 3 5 4 2 2 6 6 1 1 1 6 1 3 4 2 6 3 1 2 1 3 3 1 4 3 2 2 2 3 4 2 4 4 2 2 6 3 2 3 1 3 3 4 1 3 4 6 1 2 1 5 1 5 3 4 3 6 5 4 1 2 6 6 1 6 1 4 4 4 2 5 3 5 6 6 6 5 4 3 5 1 5 5 4 1 6 5 3 3 1 3 5 1 1 1 4 2 2 2 2 1 3 4 4 1 2 3 5 4 4 3 6 2 6 5 2 3 5 4 1 5 6 5 2 6 2 5 2 3 1 1 6 6 2 4 3 3 6 5 6 1 4 2 6 4 3 3 5 2 4 6 3 3 6 4 6 2 5 2 1 5 2 5 4 1 6 6 3 6 4 2 1 5 4 2 1 5 3 3 6 5 4 4 6 1 4 1 4 3 1 3 2 1 2 4 5 4 4 4 6 1 2 4 2 6 5 4 3 1 3 5 5 4 2 5 3 3 1 5 1 6 2 1 1 1 5 2 6 2 4 1 3 5 1 3 5 1 2 5 5 2 3 2 6 3 6 5 4 5 1 6 2 5 1 6 4 1 6 4 4 4 6 2 1 3 5 5 2 6 4 2 4 3 1 4 2 3 4 6 4 5 1 5 1 6 3 5 2 2 6 1 2 6 4 3 1 4 2 5 4 1 5 6 2 5 6 1 6 6 5 5 1 3 2 1 6 2 1 6 6 3 3 5 6 6 6 2 2 6 4 6 1 2 4 2 5 2 4 5 3 2 5 6 1 4 6 2 2 3 2 1 1 3 5 4 3 3 2 1 2 6 1 6 6 5 5 2 6 2 6 2 4 1 4 2 1 5 5 1 1 2 2 4 5 6 1 5 1 2 5 3 5 1 4 2 1 1 1 4 2 2 1 2 1 5 4 2 1 2 1 6 5 5 2 1 2 1 4 2 2 2 1 3 6 4 4 4 1 3 2 2 1 2 3 4 1 2 6 4 1 5 3 4 6 5 1 2 4 4 4 1 6 5 6 2 6 3 6 3 3 2 6 2 6 2 4 6 3 1 3 3 4 3 2 2 4 1 1 1 2 5 5 1 6 3 2 6 5 5 3 1 1 2 3 2 6 3 1 2 3 5 3 6 2 3 6 2 4 4 6 4 4 1 3 3 4 2 1 3 4 5 3 1 5 5 4 3 4 4 1 3 1 1 6 3 4 3 1 3 5 6 2 5 5 1 6 1 6 3 2 6 2 6 4 2 2 3 4 5 4 4 4 2 5 4 5 3 3 5 1 1 6 1 2 6 2 1 5 6 5 3 2 3 4 2 4 6 2 3 6 3 3 4 4 1 5 6 5 6 5 2 1 1 4 4 3 3 1 2 4 2 6 2 4 2 2 1 5 6 6 1 4 2 1 5 3 3 2 1 3 3 6 6 3 6 1 2 1 3 3 4 1 1 3 2 5 1 3 1 4 6 1 2 5 1 1 1 5 5 6 4 4 1 5 6 1 6 2 4 3 6 3 5 2 3 3 2 1 5 2 5 4 1 2 2 2 1 2 5 3 1 5 4 5 5 4 4 1 2 3 6 5 1 4 2 6 1 5 6 4 2 5 2 5 6 2 1 5 5 5 4 6 2 6 3 1 6 6 1 3 1 6 6 6 1 4 5 3 5 4 3 5 2 4 1 1 4 1 3 2 4 3 5 2 3 4 2 5 1 1 3 5 3 6 6 4 4 2 2 2 1 2 2 1 3 4 3 4 2 2 3 4 1 6 4 4 1 3 2 4 5 3 2 4 6 1 3 2 3 1 5 2 1 5 2 6 4 4 1 2 5 5 2 5 6 2 1 1 5 6 5 4 4 2 1 5 4 1 1 4 4 2 5 5 6 2 4 2 4 1 5 5 6 1 2 4 2 6 3 1 1 3 4 3 6 1 6 4 2 5 5 4 6 4 3 1 4 5 1 2 2 1 5 1 2 2 2 5 1 3 2 1 3 6 5 6 2 2 6 3 2 5 1 2 3 1 2 4 1 1 3 6 3 2 1 2 1 2 5 6 1 1 3 2 2 1 2 2 5 1 5 5 1 3 3 4 3 1 1 1 2 3 2 2 4 4 1 2 3 2 3 5 2 4 6 4 1 3 5 2 3 5 6 3 4 3 4 6 6 5 6 5 1 2 4 4 2 4 3 3 4 1 6 2 5 1 1 3 3 2 5 1 3 6 3 3 4 3 1 6 1 3 3 3 5 4 5 4 2 5 3 1 1 5 4 5 1 4 6 1 2 5 2 2 1 5 2 3 3 1 3 2 5 5 6 5 2 4 4 4 5 4 4 4 4 5 5 3 3 3 2 5 2 4 4 5 2 6 4 6 6 6 1 2 5 2 3 5 1 5 4 4 5 3 2 5 3 1 2 2 1 4 5 2 3 6 6 6 5 2 1 6 3 1 4 3 4 4 1 3 1 5 4 3 6 3 6 1 6 5 5 4 2 4 1 3 4 4 3 4 5 3 3 2 6 3 1 2 6 6 2 2 1 4 6 2 2 1 4 3 6 2 1 2 1 6 2 2 4 5 1 3 5 4 1 2 5 3 6 6 4 2 3 4 2 2 5 6 2 5 2 4 3 3 6 2 4 5 4 2 6 4 4 1 2 4 3 6 4 6 2 6 4 3 4 1 3 5 4 4 1 6 4 6 6 4 5 4 1 3 4 3 3 4 5 3 1 4 1 6 4 3 2 4 2 1 4 4 5 4 6 5 6 6 1 2 3 5 2 5 6 1 1 5 6 5 1 5 2 2 1 2 2 3 5 2 4 5 1 5 5 3 6 1 2 2 2 2 4 6 5 4 4 1 5 6 3 5 4 3 5 4 2 2 4 2 4 5 5 4 5 3 2 3 3 4 2 2 1 2 1 1 2 3 2 6 6 6 1 1 3 4 5 4 4 6 6 6 2 4 3 4 5 4 4 2 4 3 3 3 2 1 6 1 3 5 4 2 6 1 6 5 3 3 4 5 1 1 1 3 5 3 5 4 4 5 3 4 5 4 5 3 3 3 1 2 6 2 5 4 5 3 5 5 4 2 2 2 2 3 3 6 5 2 3 4 2 3 6 4 3 2 6 1 5 2 5 2 5 6 4 4 1 6 3 5 3 3 3 2 3 2 6 5 2 6 2 1 2 3 5 4 4 2 4 2 6 4 3 5 3 3 4 4 2 1 3 4 2 4 6 6 6 2 4 5 6 6 5 3 6 6 1 4 3 5 2 1 6 3 4 6 1 3 3 5 6 1 3 1 2 6 4 6 4 3 1 6 4 6 5 6 6 6 5 1 2 3 6 5 3 4 6 3 2 1 3 3 4 6 3 3 3 4 1 3 1 3 3 2 1 4 6 1 4 5 1 2 5 2 5 1 4 3 6 1 5 4 4 5 6 4 5 2 3 5 4 5 4 1 6 1 1 4 1 3 2 6 5 3 5 2 1 5 6 6 1 2 2 4 2 5 4 4 1 1 6 2 1 1 3 3 6 1 3 1 5 3 4 5 2 3 6 4 1 4 1 2 5 1 1 4 5 3 1 1 1 5 5 2 5 4 1 1 1 2 6 3 4 6 1 4 5 4 1 4 5 2 4 3 5 1 6 2 5 5 2 6 5 4 6 5 4 1 1 3 4 2 1 2 4 4 6 2 4 4 4 1 3 5 4 5 3 2 5 1 6 5 6 3 5 5 1 4 2 1 4 5 3 4 6 5 1 6 5 3 6 2 1 3 2 2 1 1 4 1 4 2 1 6 1 4 3 3 2 6 3 4 6 1 1 3 4 2 3 4 5 4 5 5 1 4 1 6 5 6 1 2 6 3 6 6 6 4 3 3 1 3 5 4 3 3 5 1 2 4 1 1 3 5 2 6 4 2 4 2 6 2 5 6 4 6 4 2 3 4 3 2 5 2 2 5 4 6 3 1 3 5 2 3 2 5 4 2 4 2 1 1 3 1 3 6 6 5 2 6 4 2 5 6 4 3 4 1 5 2 4 6 4 1 1 1 4 1 5 6 4 3 6 1 6 6 5 3 1 4 1 1 5 6 6 3 6 5 2 4 6 6 2 2 2 1 5 3 1 3 3 5 2 3 4 2 6 6 2 3 2 6 5 1 4 2 3 4 4 2 2 5 2 3 1 1 5 5 2 2 5 4 2 1 6 4 1 4 1 2 3 6 5 2 4 6 5 4 2 6 2 5 4 3 3 3 3 1 6 4 2 1 2 1 2 3 6 4 3 3 4 4 4 6 5 6 2 4 3 1 4 1 6 6 1 1 5 3 6 4 3 6 4 2 2 4 3 5 3 2 6 1 \n",
      "A frequência do número 1 é 16.98%\n",
      "\n",
      "A frequência do número 2 é 16.35%\n",
      "\n",
      "A frequência do número 3 é 16.70%\n",
      "\n",
      "A frequência do número 4 é 16.97%\n",
      "\n",
      "A frequência do número 5 é 16.28%\n",
      "\n",
      "A frequência do número 6 é 16.72%\n"
     ]
    }
   ],
   "source": [
    "from random import randint\n",
    "\n",
    "# Inicializando os contadores para cada valor\n",
    "cont1 = cont2 = cont3 = cont4 = cont5 = cont6 = 0\n",
    "\n",
    "jogadas = 6000\n",
    "\n",
    "# Executando o loop para gerar números aleatórios\n",
    "for _ in range(jogadas):\n",
    "    lado1 = randint(1, 6)  # Gera um número aleatório entre 1 e 6\n",
    "    print(lado1, end=' ')\n",
    "\n",
    "    # Atualizando os contadores conforme o valor gerado\n",
    "    if lado1 == 1:\n",
    "        cont1 += 1\n",
    "    elif lado1 == 2:\n",
    "        cont2 += 1\n",
    "    elif lado1 == 3:\n",
    "        cont3 += 1\n",
    "    elif lado1 == 4:\n",
    "        cont4 += 1\n",
    "    elif lado1 == 5:\n",
    "        cont5 += 1\n",
    "    else:  # lado1 == 6\n",
    "        cont6 += 1\n",
    "\n",
    "# Calculando a frequência dos valores\n",
    "print(f'\\nA frequência do número 1 é {cont1 / jogadas:.2%}')\n",
    "print(f'\\nA frequência do número 2 é {cont2 / jogadas:.2%}')\n",
    "print(f'\\nA frequência do número 3 é {cont3 / jogadas:.2%}')\n",
    "print(f'\\nA frequência do número 4 é {cont4 / jogadas:.2%}')\n",
    "print(f'\\nA frequência do número 5 é {cont5 / jogadas:.2%}')\n",
    "print(f'\\nA frequência do número 6 é {cont6 / jogadas:.2%}')"
   ]
  },
  {
   "cell_type": "markdown",
   "metadata": {},
   "source": [
    "5. Faça um algoritmo que simule a jogada de dois dados de 6 faces. O programa deve usar randint para rolar o primeiro dado e deve usar randint novamente para rolar o segundo dado. A soma das duas faces deve ser calculada. Assim: a soma variará de 2 a 12. O programa deve rolar 30.000 vezes e mostrar a frequência com que a soma (de 2 a 12) aparecem.  Verifique se o valor 7 corresponde a 1/6 das jogadas!\n"
   ]
  },
  {
   "cell_type": "code",
   "execution_count": 143,
   "metadata": {},
   "outputs": [
    {
     "data": {
      "text/plain": [
       "0.16696666666666668"
      ]
     },
     "execution_count": 143,
     "metadata": {},
     "output_type": "execute_result"
    }
   ],
   "source": [
    "jogadas1 = 30000\n",
    "soma = 0\n",
    "contador = 0\n",
    "dic = {}\n",
    "for _ in range(jogadas1):\n",
    "    lado2 = randint(1, 6)\n",
    "    lado3 = randint(1, 6)\n",
    "    soma = lado2 + lado3\n",
    "    if soma in dic:\n",
    "        dic[soma] += 1\n",
    "    else:\n",
    "        dic[soma] = 1\n",
    "dic[7]/jogadas1\n",
    "\n",
    "     \n",
    "\n",
    "\n",
    "\n",
    "\n",
    "\n"
   ]
  },
  {
   "cell_type": "markdown",
   "metadata": {},
   "source": [
    "6. Faça um algoritmo que leia uma matriz 2x2 e imprima os seus elementos na ordem:\n",
    "\n",
    "1,1 =\n",
    "\n",
    "1,2 =\n",
    "\n",
    "2,1 =\n",
    "\n",
    "2,2 =\n",
    "\n",
    "Obs: linha, coluna\n"
   ]
  },
  {
   "cell_type": "code",
   "execution_count": 169,
   "metadata": {},
   "outputs": [
    {
     "ename": "SyntaxError",
     "evalue": "invalid syntax (3909734576.py, line 5)",
     "output_type": "error",
     "traceback": [
      "\u001b[1;36m  Cell \u001b[1;32mIn[169], line 5\u001b[1;36m\u001b[0m\n\u001b[1;33m    dic1{'linha1'}[1]\u001b[0m\n\u001b[1;37m        ^\u001b[0m\n\u001b[1;31mSyntaxError\u001b[0m\u001b[1;31m:\u001b[0m invalid syntax\n"
     ]
    }
   ],
   "source": [
    "dic1 = {\n",
    "    \"linha1\": (10, 20),\n",
    "    \"linha2\": (11, 21)\n",
    "}\n",
    "dic1{'linha1'}[1]"
   ]
  },
  {
   "cell_type": "markdown",
   "metadata": {},
   "source": [
    "7. Faça um algoritmo que leia os dados de uma matriz de 4 linhas e 4 colunas, composta de elementos reais, e calcule a soma dos elementos da diagonal principal da matriz."
   ]
  },
  {
   "cell_type": "code",
   "execution_count": null,
   "metadata": {},
   "outputs": [],
   "source": []
  },
  {
   "cell_type": "markdown",
   "metadata": {},
   "source": [
    "8. Faça um algoritmo que receba uma matriz de 5x5 com números reais. Ao final o algoritmo deve calcular e mostrar a média dos elementos que estão nas linhas pares da matriz."
   ]
  },
  {
   "cell_type": "code",
   "execution_count": null,
   "metadata": {},
   "outputs": [],
   "source": []
  },
  {
   "cell_type": "markdown",
   "metadata": {},
   "source": [
    "### Exercícios sobre Tuplas"
   ]
  },
  {
   "cell_type": "markdown",
   "metadata": {},
   "source": [
    "9. Faça um algoritmo que armazenará os 10 primeiros números primos acima de 100 em uma trupla. Ao final, o algoritmo deve mostrar os valores dessa estrutura de dados.\n"
   ]
  },
  {
   "cell_type": "code",
   "execution_count": null,
   "metadata": {},
   "outputs": [],
   "source": []
  },
  {
   "cell_type": "code",
   "execution_count": null,
   "metadata": {},
   "outputs": [],
   "source": []
  },
  {
   "cell_type": "markdown",
   "metadata": {},
   "source": [
    "### Exercícios sobre Dicionários"
   ]
  },
  {
   "cell_type": "markdown",
   "metadata": {},
   "source": [
    "10. Faça um algoritmo que carregue um dicionário de 10 elementos onde a chave é o sobrenome da pessoa e o valor a sua idade.\n",
    "Após a finalização da entrada, o algoritmo deve escrever o sobrenome da pessoa com maior idade."
   ]
  },
  {
   "cell_type": "code",
   "execution_count": null,
   "metadata": {},
   "outputs": [],
   "source": []
  },
  {
   "cell_type": "markdown",
   "metadata": {},
   "source": [
    "11. Faça um algoritmo que carregue um dicionário contendo nome e idade (pelo menos 5 pares). Depois de carregar, mostre todos os nomes que tenham idade maior que a média das idades."
   ]
  },
  {
   "cell_type": "code",
   "execution_count": null,
   "metadata": {},
   "outputs": [],
   "source": []
  },
  {
   "cell_type": "markdown",
   "metadata": {},
   "source": [
    "12. Faça algoritmo que carregue duas listas de cinco elementos numéricos inteiros cada um. A partir dessas duas listas, crie um conjunto da união entre essas duas listas."
   ]
  },
  {
   "cell_type": "code",
   "execution_count": null,
   "metadata": {},
   "outputs": [],
   "source": []
  },
  {
   "cell_type": "markdown",
   "metadata": {},
   "source": [
    "## Fim da Aula 12"
   ]
  }
 ],
 "metadata": {
  "anaconda-cloud": {},
  "kernelspec": {
   "display_name": "Python 3 (ipykernel)",
   "language": "python",
   "name": "python3"
  },
  "language_info": {
   "codemirror_mode": {
    "name": "ipython",
    "version": 3
   },
   "file_extension": ".py",
   "mimetype": "text/x-python",
   "name": "python",
   "nbconvert_exporter": "python",
   "pygments_lexer": "ipython3",
   "version": "3.12.4"
  }
 },
 "nbformat": 4,
 "nbformat_minor": 4
}
