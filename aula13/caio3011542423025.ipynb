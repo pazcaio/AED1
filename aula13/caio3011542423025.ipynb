{
 "cells": [
  {
   "cell_type": "markdown",
   "id": "a1af5691-e236-4b4d-904f-ce515dea9a53",
   "metadata": {},
   "source": [
    "1)"
   ]
  },
  {
   "cell_type": "code",
   "execution_count": 5,
   "id": "ecf669c1-48d6-4a8a-89d8-f887cd559da8",
   "metadata": {},
   "outputs": [
    {
     "name": "stdin",
     "output_type": "stream",
     "text": [
      "Escreva uma frase Caio Cesar TAscano\n"
     ]
    },
    {
     "name": "stdout",
     "output_type": "stream",
     "text": [
      "A Frase normalisada é: ['caio_cesar_tascano']\n"
     ]
    }
   ],
   "source": [
    "frase = input('Escreva uma frase')\n",
    "frase_norm = frase.replace(' ', '_').lower().split()\n",
    "print(f'A Frase normalisada é: {frase_norm}')"
   ]
  },
  {
   "cell_type": "markdown",
   "id": "c64ab973-61f1-49e6-afc8-6f30974a424d",
   "metadata": {},
   "source": [
    "2)"
   ]
  },
  {
   "cell_type": "code",
   "execution_count": 9,
   "id": "9f3f3c10-e0ce-4214-9b2d-59f3934aa979",
   "metadata": {},
   "outputs": [
    {
     "name": "stdout",
     "output_type": "stream",
     "text": [
      "Vendas acima de 100: [120, 300, 200]\n",
      "A média das vendas é 206.67\n"
     ]
    }
   ],
   "source": [
    "vendas = [120, 85, 300, 55, 200, 95]\n",
    "\n",
    "filtro = []\n",
    "\n",
    "for venda in range(len(vendas)):\n",
    "    if vendas[venda] > 100:\n",
    "        filtro.append(vendas[venda])\n",
    "\n",
    "print(f'Vendas acima de 100: {filtro}')\n",
    "print(f'A média das vendas é {sum(filtro)/len(filtro):.2f}')\n",
    "    "
   ]
  },
  {
   "cell_type": "markdown",
   "id": "2a06bf0a-0c30-4bff-ad13-32a461aa864c",
   "metadata": {},
   "source": [
    "3)"
   ]
  },
  {
   "cell_type": "code",
   "execution_count": 19,
   "id": "17a9b7ab-532b-42b0-bb1f-b828677e999b",
   "metadata": {},
   "outputs": [
    {
     "name": "stdin",
     "output_type": "stream",
     "text": [
      "Digite x1 2\n",
      "Digite y1 2\n",
      "Digite x2 3\n",
      "Digite y2 3\n",
      "Digite x3 4\n",
      "Digite y3 4\n"
     ]
    },
    {
     "name": "stdout",
     "output_type": "stream",
     "text": [
      "Distancia Media 4.2\n"
     ]
    }
   ],
   "source": [
    "import math\n",
    "numeros = []\n",
    "for i in range(1, 4):\n",
    "    x = int(input(f'Digite x{i}'))\n",
    "    y = int(input(f'Digite y{i}'))\n",
    "    euc = math.sqrt(x**2 + y**2)\n",
    "    numeros.append(euc)\n",
    "\n",
    "print(f'Distancia Media {sum(numeros)/len(numeros):.1f}')\n",
    "    "
   ]
  },
  {
   "cell_type": "markdown",
   "id": "887cd89e-feba-4644-9a71-3bcb5b560ef7",
   "metadata": {},
   "source": [
    "4)"
   ]
  },
  {
   "cell_type": "code",
   "execution_count": 27,
   "id": "33fbc315-0b0c-4fef-9221-a3df4d766259",
   "metadata": {},
   "outputs": [
    {
     "name": "stdin",
     "output_type": "stream",
     "text": [
      "Digite a frase Caio Cesar TAscacno Caio Cesar TAscacno\n"
     ]
    },
    {
     "name": "stdout",
     "output_type": "stream",
     "text": [
      "caio: 2\n",
      "cesar: 2\n",
      "tascacno: 2\n"
     ]
    }
   ],
   "source": [
    "frase = input('Digite a frase')\n",
    "palavras = frase.lower().split()\n",
    "\n",
    "contagem = {}\n",
    "\n",
    "for palavra in palavras:\n",
    "    if palavra in contagem:\n",
    "        contagem[palavra] += 1\n",
    "    else:\n",
    "        contagem[palavra] = 1\n",
    "        \n",
    "for palavra, cont in contagem.items():\n",
    "    print(f'{palavra}: {cont}')"
   ]
  }
 ],
 "metadata": {
  "kernelspec": {
   "display_name": "Python 3 (ipykernel)",
   "language": "python",
   "name": "python3"
  },
  "language_info": {
   "codemirror_mode": {
    "name": "ipython",
    "version": 3
   },
   "file_extension": ".py",
   "mimetype": "text/x-python",
   "name": "python",
   "nbconvert_exporter": "python",
   "pygments_lexer": "ipython3",
   "version": "3.13.0"
  }
 },
 "nbformat": 4,
 "nbformat_minor": 5
}
