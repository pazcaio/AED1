{
 "cells": [
  {
   "cell_type": "markdown",
   "metadata": {},
   "source": [
    "![Algoritmos e Estrutura de Dados I](AED1_banner.jpg)"
   ]
  },
  {
   "cell_type": "markdown",
   "metadata": {},
   "source": [
    "## <font color='blue'>Algoritmos e Estrutura de Dados I</font>\n",
    "## <font color='blue'>Aula 7 -  Condicionais</font>"
   ]
  },
  {
   "cell_type": "code",
   "execution_count": 1,
   "metadata": {},
   "outputs": [
    {
     "name": "stdout",
     "output_type": "stream",
     "text": [
      "Versão da Linguagem Python Usada Neste Jupyter Notebook: 3.12.4\n"
     ]
    }
   ],
   "source": [
    "# Versão da Linguagem Python\n",
    "from platform import python_version\n",
    "print('Versão da Linguagem Python Usada Neste Jupyter Notebook:', python_version())"
   ]
  },
  {
   "cell_type": "markdown",
   "metadata": {},
   "source": [
    "## Condicional If"
   ]
  },
  {
   "cell_type": "code",
   "execution_count": 8,
   "metadata": {},
   "outputs": [
    {
     "name": "stdout",
     "output_type": "stream",
     "text": [
      "A sentença é verdadeira!\n"
     ]
    }
   ],
   "source": [
    "# Condicional If (Se)\n",
    "if 5 > 2:\n",
    "    print(\"A sentença é verdadeira!\")\n"
   ]
  },
  {
   "cell_type": "code",
   "execution_count": 3,
   "metadata": {},
   "outputs": [
    {
     "name": "stdout",
     "output_type": "stream",
     "text": [
      "A sentença é falsa!\n"
     ]
    }
   ],
   "source": [
    "# Condicional If...Else\n",
    "if 5 < 2:\n",
    "    print(\"A sentença é verdadeira!\")\n",
    "else:\n",
    "    print(\"A sentença é falsa!\")"
   ]
  },
  {
   "cell_type": "code",
   "execution_count": 4,
   "metadata": {},
   "outputs": [
    {
     "name": "stdout",
     "output_type": "stream",
     "text": [
      "Hoje vai chover!\n"
     ]
    }
   ],
   "source": [
    "# Condicional If...Else com variável\n",
    "dia = \"Terça\"\n",
    "if dia == \"Segunda\":\n",
    "    print(\"Hoje fará sol!\")\n",
    "else:\n",
    "    print(\"Hoje vai chover!\")"
   ]
  },
  {
   "cell_type": "code",
   "execution_count": 9,
   "metadata": {},
   "outputs": [
    {
     "name": "stdin",
     "output_type": "stream",
     "text": [
      "Qual do dia da semana:  Sei la\n"
     ]
    },
    {
     "name": "stdout",
     "output_type": "stream",
     "text": [
      "Sem previsão do tempo para o dia selecionado\n"
     ]
    }
   ],
   "source": [
    "# Podemos usar o operador elif para validar mais de uma condição\n",
    "dia = input(\"Qual do dia da semana: \")\n",
    "if dia == \"Segunda\":\n",
    "    print(\"Hoje fará sol!\")\n",
    "elif dia == \"Terça\":\n",
    "    print(\"Hoje vai chover!\")\n",
    "else:\n",
    "    print(\"Sem previsão do tempo para o dia selecionado\")"
   ]
  },
  {
   "cell_type": "code",
   "execution_count": null,
   "metadata": {},
   "outputs": [],
   "source": [
    "## Tabela de Imposto de renda ## Foi assim que nasce a junção de elif\n",
    "\n",
    "if sal < 1200:\n",
    "    desc = 0\n",
    "else:\n",
    "    if sal < 3000:\n",
    "        desc = 0.15\n",
    "    else:\n",
    "        if sal < 5500:\n",
    "            desc = 0.20\n",
    "        else:\n",
    "            desc = 0.275\n",
    "\n",
    "## Exemplo de elif\n",
    "\n",
    "if sal < 1200:\n",
    "    desc = 0\n",
    "elif sal < 3000:\n",
    "    desc = 0.15\n",
    "elif sal < 5500:\n",
    "    desc = 0.2\n",
    "else:\n",
    "    desc = 0.275"
   ]
  },
  {
   "cell_type": "markdown",
   "metadata": {},
   "source": [
    "## Operadores Relacionais\n",
    "\n",
    "Retorna um valor booleano."
   ]
  },
  {
   "cell_type": "code",
   "execution_count": 10,
   "metadata": {},
   "outputs": [
    {
     "data": {
      "text/plain": [
       "True"
      ]
     },
     "execution_count": 10,
     "metadata": {},
     "output_type": "execute_result"
    }
   ],
   "source": [
    "6 > 3"
   ]
  },
  {
   "cell_type": "code",
   "execution_count": 11,
   "metadata": {},
   "outputs": [
    {
     "data": {
      "text/plain": [
       "False"
      ]
     },
     "execution_count": 11,
     "metadata": {},
     "output_type": "execute_result"
    }
   ],
   "source": [
    "3 > 7"
   ]
  },
  {
   "cell_type": "code",
   "execution_count": 12,
   "metadata": {},
   "outputs": [
    {
     "data": {
      "text/plain": [
       "True"
      ]
     },
     "execution_count": 12,
     "metadata": {},
     "output_type": "execute_result"
    }
   ],
   "source": [
    "4 < 8"
   ]
  },
  {
   "cell_type": "code",
   "execution_count": 13,
   "metadata": {},
   "outputs": [
    {
     "data": {
      "text/plain": [
       "True"
      ]
     },
     "execution_count": 13,
     "metadata": {},
     "output_type": "execute_result"
    }
   ],
   "source": [
    "4 >= 4"
   ]
  },
  {
   "cell_type": "code",
   "execution_count": 14,
   "metadata": {},
   "outputs": [
    {
     "data": {
      "text/plain": [
       "True"
      ]
     },
     "execution_count": 14,
     "metadata": {},
     "output_type": "execute_result"
    }
   ],
   "source": [
    "5 == 5"
   ]
  },
  {
   "cell_type": "code",
   "execution_count": 15,
   "metadata": {},
   "outputs": [
    {
     "name": "stdout",
     "output_type": "stream",
     "text": [
      "Testando Python!\n"
     ]
    }
   ],
   "source": [
    "if 5 == 5:\n",
    "    print(\"Testando Python!\")"
   ]
  },
  {
   "cell_type": "code",
   "execution_count": 16,
   "metadata": {},
   "outputs": [
    {
     "name": "stdout",
     "output_type": "stream",
     "text": [
      "Parece que Python funciona!\n"
     ]
    }
   ],
   "source": [
    "if True:\n",
    "    print('Parece que Python funciona!')"
   ]
  },
  {
   "cell_type": "code",
   "execution_count": 17,
   "metadata": {},
   "outputs": [
    {
     "ename": "SyntaxError",
     "evalue": "expected ':' (3621467836.py, line 2)",
     "output_type": "error",
     "traceback": [
      "\u001b[1;36m  Cell \u001b[1;32mIn[17], line 2\u001b[1;36m\u001b[0m\n\u001b[1;33m    if 4 > 3\u001b[0m\n\u001b[1;37m            ^\u001b[0m\n\u001b[1;31mSyntaxError\u001b[0m\u001b[1;31m:\u001b[0m expected ':'\n"
     ]
    }
   ],
   "source": [
    "# Atenção com a sintaxe\n",
    "if 4 > 3\n",
    "    print(\"Tudo funciona!\")"
   ]
  },
  {
   "cell_type": "code",
   "execution_count": 18,
   "metadata": {},
   "outputs": [
    {
     "ename": "IndentationError",
     "evalue": "expected an indented block after 'if' statement on line 2 (2843329154.py, line 3)",
     "output_type": "error",
     "traceback": [
      "\u001b[1;36m  Cell \u001b[1;32mIn[18], line 3\u001b[1;36m\u001b[0m\n\u001b[1;33m    print(\"Tudo funciona!\")\u001b[0m\n\u001b[1;37m    ^\u001b[0m\n\u001b[1;31mIndentationError\u001b[0m\u001b[1;31m:\u001b[0m expected an indented block after 'if' statement on line 2\n"
     ]
    }
   ],
   "source": [
    "# Atenção com a sintaxe\n",
    "if 4 > 3:\n",
    "print(\"Tudo funciona!\")"
   ]
  },
  {
   "cell_type": "markdown",
   "metadata": {},
   "source": [
    "#### --> Atenção aos espaços entre a margem e cada um dos seus comandos. \n",
    "#### --> Esses espaços são chamados de \"identação\".\n",
    "#### --> A indentação faz parte da sintaxe da linguagem Python e identifica os blocos de código"
   ]
  },
  {
   "cell_type": "markdown",
   "metadata": {},
   "source": [
    "## Condicionais Aninhados"
   ]
  },
  {
   "cell_type": "code",
   "execution_count": 19,
   "metadata": {},
   "outputs": [
    {
     "name": "stdout",
     "output_type": "stream",
     "text": [
      "Você pode dirigir!\n"
     ]
    }
   ],
   "source": [
    "idade = 18\n",
    "if idade > 17:\n",
    "    print(\"Você pode dirigir!\")"
   ]
  },
  {
   "cell_type": "code",
   "execution_count": 20,
   "metadata": {},
   "outputs": [
    {
     "name": "stdout",
     "output_type": "stream",
     "text": [
      "Ok Bob, você está autorizado a entrar!\n"
     ]
    }
   ],
   "source": [
    "Nome = \"Bob\"\n",
    "if idade > 13:\n",
    "    if Nome == \"Bob\":\n",
    "        print(\"Ok Bob, você está autorizado a entrar!\")\n",
    "    else:\n",
    "        print(\"Desculpe, mas você não pode entrar!\")"
   ]
  },
  {
   "cell_type": "code",
   "execution_count": 21,
   "metadata": {},
   "outputs": [
    {
     "name": "stdout",
     "output_type": "stream",
     "text": [
      "Ok Bob, você está autorizado a entrar!\n"
     ]
    }
   ],
   "source": [
    "idade = 13\n",
    "Nome = \"Bob\"\n",
    "if idade >= 13 and Nome == \"Bob\":\n",
    "    print(\"Ok Bob, você está autorizado a entrar!\")"
   ]
  },
  {
   "cell_type": "code",
   "execution_count": 22,
   "metadata": {},
   "outputs": [
    {
     "name": "stdout",
     "output_type": "stream",
     "text": [
      "Ok Bob, você está autorizado a entrar!\n"
     ]
    }
   ],
   "source": [
    "idade = 12\n",
    "Nome = \"Bob\"\n",
    "if (idade >= 13) or (Nome == \"Bob\"):\n",
    "    print(\"Ok Bob, você está autorizado a entrar!\")"
   ]
  },
  {
   "cell_type": "markdown",
   "metadata": {},
   "source": [
    "## Operadores Lógicos"
   ]
  },
  {
   "cell_type": "code",
   "execution_count": 23,
   "metadata": {},
   "outputs": [
    {
     "name": "stdout",
     "output_type": "stream",
     "text": [
      "Você pode dirigir!\n"
     ]
    }
   ],
   "source": [
    "idade = 18\n",
    "nome = \"Bob\"\n",
    "if idade > 17:\n",
    "    print(\"Você pode dirigir!\")"
   ]
  },
  {
   "cell_type": "code",
   "execution_count": 24,
   "metadata": {},
   "outputs": [
    {
     "name": "stdout",
     "output_type": "stream",
     "text": [
      "Autorizado!\n"
     ]
    }
   ],
   "source": [
    "idade = 18\n",
    "if idade > 17 and nome == \"Bob\":\n",
    "    print(\"Autorizado!\")"
   ]
  },
  {
   "cell_type": "markdown",
   "metadata": {},
   "source": [
    "Os operadores lógicos funcionam assim:\n",
    "\n",
    "- Operador **and** - Retorna True se ambas as declarações forem verdadeiras.\n",
    "- Operador **or** - Retorna True se uma das declarações for verdadeira.\n",
    "- Operador **not** - Inverte o resultado, retorna False se o resultado for True."
   ]
  },
  {
   "cell_type": "code",
   "execution_count": 25,
   "metadata": {},
   "outputs": [
    {
     "name": "stdout",
     "output_type": "stream",
     "text": [
      "Isso está sendo impresso porque as duas condições são verdadeiras!\n"
     ]
    }
   ],
   "source": [
    "# Operador and\n",
    "\n",
    "numero = 4\n",
    "\n",
    "if (numero > 2) and (numero % 2 == 0):\n",
    "    print(\"Isso está sendo impresso porque as duas condições são verdadeiras!\")"
   ]
  },
  {
   "cell_type": "code",
   "execution_count": 26,
   "metadata": {},
   "outputs": [
    {
     "name": "stdout",
     "output_type": "stream",
     "text": [
      "Isso está sendo impresso porque uma das duas condições é falsa!\n"
     ]
    }
   ],
   "source": [
    "# Operador and\n",
    "\n",
    "numero = 4\n",
    "\n",
    "if (numero > 5) and (numero % 2 == 0):\n",
    "    print(\"Isso está sendo impresso porque as duas condições são verdadeiras!\")\n",
    "else:\n",
    "    print(\"Isso está sendo impresso porque uma das duas condições é falsa!\")"
   ]
  },
  {
   "cell_type": "code",
   "execution_count": 27,
   "metadata": {},
   "outputs": [
    {
     "name": "stdout",
     "output_type": "stream",
     "text": [
      "Isso está sendo impresso porque uma duas condições é verdadeira!\n"
     ]
    }
   ],
   "source": [
    "# Operador or\n",
    "\n",
    "numero = 4\n",
    "\n",
    "if (numero > 5) or (numero % 2 == 0):\n",
    "    print(\"Isso está sendo impresso porque uma duas condições é verdadeira!\")"
   ]
  },
  {
   "cell_type": "code",
   "execution_count": 28,
   "metadata": {},
   "outputs": [
    {
     "name": "stdout",
     "output_type": "stream",
     "text": [
      "Isso está sendo impresso porque as duas condições são verdadeiras!\n"
     ]
    }
   ],
   "source": [
    "# Operador not\n",
    "\n",
    "numero = 4\n",
    "\n",
    "if not(numero > 5) and (numero % 2 == 0):\n",
    "    print(\"Isso está sendo impresso porque as duas condições são verdadeiras!\")\n",
    "else:\n",
    "    print(\"Isso está sendo impresso porque uma das duas condições é falsa!\")"
   ]
  },
  {
   "cell_type": "code",
   "execution_count": 29,
   "metadata": {},
   "outputs": [
    {
     "name": "stdout",
     "output_type": "stream",
     "text": [
      "Isso está sendo impresso porque as duas primeiras condições são verdadeiras ou a terceira é verdadeira!\n"
     ]
    }
   ],
   "source": [
    "# Operador and, or e not\n",
    "\n",
    "numero = 4\n",
    "\n",
    "if (not(numero > 5) and (numero % 2 == 0)) or (numero == 4):\n",
    "    print(\"Isso está sendo impresso porque as duas primeiras condições são verdadeiras ou a terceira é verdadeira!\")"
   ]
  },
  {
   "cell_type": "code",
   "execution_count": 30,
   "metadata": {},
   "outputs": [
    {
     "name": "stdout",
     "output_type": "stream",
     "text": [
      "Você foi aprovado!\n"
     ]
    }
   ],
   "source": [
    "# Exemplo com o uso de variáveis\n",
    "\n",
    "disciplina = 'Algoritmos'\n",
    "nota_final = 70\n",
    "\n",
    "if disciplina == 'Algoritmos' and nota_final >= 70:\n",
    "    print('Você foi aprovado!')\n",
    "else:\n",
    "    print('Lamento, acho que você precisa estudar mais!')"
   ]
  },
  {
   "cell_type": "code",
   "execution_count": 31,
   "metadata": {},
   "outputs": [
    {
     "name": "stdout",
     "output_type": "stream",
     "text": [
      "Lamento, acho que você precisa estudar mais!\n"
     ]
    }
   ],
   "source": [
    "# Usando mais de uma condição na cláusula if \n",
    "\n",
    "disciplina = 'Algoritmos'\n",
    "nota_final = 60\n",
    "\n",
    "if disciplina == 'Algoritmos' and nota_final >= 70:\n",
    "    print('Você foi aprovado!')\n",
    "else:\n",
    "    print('Lamento, acho que você precisa estudar mais!')"
   ]
  },
  {
   "cell_type": "code",
   "execution_count": 32,
   "metadata": {},
   "outputs": [
    {
     "name": "stdout",
     "output_type": "stream",
     "text": [
      "Lamento, acho que você precisa estudar mais!\n"
     ]
    }
   ],
   "source": [
    "# Usando mais de uma condição na cláusula if e introduzindo Placeholders\n",
    "\n",
    "disciplina = 'Algoritmos'\n",
    "nota_final = 90\n",
    "semestre = 1\n",
    "\n",
    "if disciplina == 'Data Science' and nota_final >= 80 and semestre != 2:\n",
    "    print('Você foi aprovado em %s com média final %r!' %(disciplina, nota_final))\n",
    "else:\n",
    "    print('Lamento, acho que você precisa estudar mais!')"
   ]
  },
  {
   "cell_type": "markdown",
   "metadata": {},
   "source": [
    "----------\n",
    "## Exercícios"
   ]
  },
  {
   "cell_type": "markdown",
   "metadata": {},
   "source": [
    "1. Faça um Programa que peça dois números e imprima o maior deles."
   ]
  },
  {
   "cell_type": "code",
   "execution_count": 33,
   "metadata": {},
   "outputs": [
    {
     "name": "stdout",
     "output_type": "stream",
     "text": [
      "Qual o numero 01\n"
     ]
    },
    {
     "name": "stdin",
     "output_type": "stream",
     "text": [
      "None 3\n"
     ]
    },
    {
     "name": "stdout",
     "output_type": "stream",
     "text": [
      "Qual o numero 02\n"
     ]
    },
    {
     "name": "stdin",
     "output_type": "stream",
     "text": [
      "None 5\n"
     ]
    },
    {
     "name": "stdout",
     "output_type": "stream",
     "text": [
      "O maior numero é 5\n"
     ]
    }
   ],
   "source": [
    "num1 = input(print(\"Qual o numero 01\"))\n",
    "num2 = input(print(\"Qual o numero 02\"))\n",
    "\n",
    "if num1 > num2:\n",
    "    print(f\"O maior numero é {num1}\")\n",
    "else:\n",
    "    print(f\"O maior numero é {num2}\")\n"
   ]
  },
  {
   "cell_type": "markdown",
   "metadata": {},
   "source": [
    "2. Faça um Programa que verifique se uma letra digitada é vogal ou consoante."
   ]
  },
  {
   "cell_type": "code",
   "execution_count": 41,
   "metadata": {},
   "outputs": [
    {
     "name": "stdout",
     "output_type": "stream",
     "text": [
      "Digite uma letra \n"
     ]
    },
    {
     "name": "stdin",
     "output_type": "stream",
     "text": [
      "None b\n"
     ]
    },
    {
     "name": "stdout",
     "output_type": "stream",
     "text": [
      "A letra b é uma consoante\n"
     ]
    }
   ],
   "source": [
    "letra = input(print(\"Digite uma letra \"))\n",
    "vogais = ('a', 'e', 'i', 'o', 'u')\n",
    "if letra in vogais:\n",
    "    print(f\"A letra {letra} é uma vogal\")\n",
    "else:\n",
    "    print(f\"A letra {letra} é uma consoante\")\n",
    "\n"
   ]
  },
  {
   "cell_type": "markdown",
   "metadata": {},
   "source": [
    "3. Faça um programa que receba a idade de um nadador e mostre a sua categoria usando as regras a seguir:\n",
    "\n",
    "Categoria_______Idade\n",
    "\n",
    "Infantil___________5 a 7\n",
    "\n",
    "Juvenil___________8 a 10\n",
    "\n",
    "Adolescente_____11 a 15\n",
    "\n",
    "Adulto___________16 a 30\n",
    "\n",
    "Sênior____________Acima de 30\n"
   ]
  },
  {
   "cell_type": "code",
   "execution_count": 50,
   "metadata": {},
   "outputs": [
    {
     "name": "stdout",
     "output_type": "stream",
     "text": [
      "Qual sua idade? \n"
     ]
    },
    {
     "name": "stdin",
     "output_type": "stream",
     "text": [
      "None 5\n"
     ]
    },
    {
     "name": "stdout",
     "output_type": "stream",
     "text": [
      "Categoria é infantil\n"
     ]
    }
   ],
   "source": [
    "idade = int(input(print(\"Qual sua idade? \")))\n",
    "\n",
    "if idade <= 5:\n",
    "    print(\"Categoria é infantil\")\n",
    "elif idade <= 10:\n",
    "    print(\"Categoria é juvenil\")\n",
    "elif idade <= 15:\n",
    "    print(\"Categoria é adolescente\")\n",
    "elif idade <= 30:\n",
    "    print(\"Categoria Adulta\")\n",
    "else:\n",
    "    print(\"Categoria Senior\")\n",
    "              "
   ]
  },
  {
   "cell_type": "markdown",
   "metadata": {},
   "source": [
    "4. Faça um Programa que peça os 3 lados de um triângulo. O programa deverá informar se os valores podem ser um triângulo. Indique, caso os lados formem um triângulo, se o mesmo é: equilátero, isósceles ou escaleno.\n",
    "Dicas:\n",
    "- Três lados formam um triângulo quando a soma de quaisquer dois lados for maior que o terceiro;\n",
    "- Triângulo Equilátero: três lados iguais;\n",
    "- Triângulo Isósceles: quaisquer dois lados iguais;\n",
    "- Triângulo Escaleno: três lados diferentes;"
   ]
  },
  {
   "cell_type": "code",
   "execution_count": 94,
   "metadata": {},
   "outputs": [
    {
     "name": "stdout",
     "output_type": "stream",
     "text": [
      "Qual o valor do Lado 01 \n"
     ]
    },
    {
     "name": "stdin",
     "output_type": "stream",
     "text": [
      "None 3\n"
     ]
    },
    {
     "name": "stdout",
     "output_type": "stream",
     "text": [
      "Qual o valor do Lado 02 \n"
     ]
    },
    {
     "name": "stdin",
     "output_type": "stream",
     "text": [
      "None 4\n"
     ]
    },
    {
     "name": "stdout",
     "output_type": "stream",
     "text": [
      "Qual o valor do Lado 03 \n"
     ]
    },
    {
     "name": "stdin",
     "output_type": "stream",
     "text": [
      "None 55\n"
     ]
    },
    {
     "name": "stdout",
     "output_type": "stream",
     "text": [
      "Não é um Triângulo\n"
     ]
    }
   ],
   "source": [
    "l1 = float(input(print('Qual o valor do Lado 01 ')))\n",
    "l2 = float(input(print('Qual o valor do Lado 02 ')))\n",
    "l3 = float(input(print('Qual o valor do Lado 03 ')))\n",
    "\n",
    "if ((l1+l2)>l3) and ((l1+l3)>l2) and ((l2+l3)>l1):\n",
    "    if (l1 == l2) and (l2 == l3):\n",
    "        print('Triangulo Equilatero')\n",
    "    elif (a == b) or (b == c) or (a == c):\n",
    "        print('Isoceles')\n",
    "    else:\n",
    "        print('Triangulo Escaleno')\n",
    "else:\n",
    "    print(\"Não é um Triângulo\")\n",
    "    \n"
   ]
  },
  {
   "cell_type": "markdown",
   "metadata": {},
   "source": [
    "5. Faça um programa que calcule as raízes de uma equação do segundo grau, na forma ax2 + bx + c. O programa deverá pedir os valores de a, b e c e fazer as consistências, informando ao usuário nas seguintes situações:\n",
    "- Se o usuário informar o valor de a igual a zero, a equação não é do segundo grau e o programa não deve fazer pedir os demais valores, sendo encerrado;\n",
    "- Se o delta calculado for negativo, a equação não possui raízes reais. Informe ao usuário e encerre o programa;\n",
    "- Se o delta calculado for igual a zero a equação possui apenas uma raiz real; informe-a ao usuário;\n",
    "- Se o delta for positivo, a equação possui duas raiz reais; informe-as ao usuário;\n"
   ]
  },
  {
   "cell_type": "code",
   "execution_count": 73,
   "metadata": {},
   "outputs": [
    {
     "name": "stdout",
     "output_type": "stream",
     "text": [
      "Qual o Valor de A\n"
     ]
    },
    {
     "name": "stdin",
     "output_type": "stream",
     "text": [
      "None 2\n"
     ]
    },
    {
     "name": "stdout",
     "output_type": "stream",
     "text": [
      "Qual o Valor de B\n"
     ]
    },
    {
     "name": "stdin",
     "output_type": "stream",
     "text": [
      "None -1\n"
     ]
    },
    {
     "name": "stdout",
     "output_type": "stream",
     "text": [
      "Qual o Valor de C\n"
     ]
    },
    {
     "name": "stdin",
     "output_type": "stream",
     "text": [
      "None -3\n"
     ]
    },
    {
     "name": "stdout",
     "output_type": "stream",
     "text": [
      "O delta é negativo, a equação não possui raízes reais\n"
     ]
    }
   ],
   "source": [
    "from math import sqrt, pow\n",
    "\n",
    "a = float(input(print(\"Qual o Valor de A\" )))\n",
    "b = float(input(print(\"Qual o Valor de B\" )))\n",
    "c = float(input(print(\"Qual o Valor de C\" )))\n",
    "delta = b ** 2 - ((-1 * 4) * a * c)\n",
    "\n",
    "if a == 0:\n",
    "    print(\"Não é uma equação de segundo graus\")\n",
    "elif delta < 0:\n",
    "    print('O delta é negativo, a equação não possui raízes reais')\n",
    "elif delta == 0:\n",
    "    raiz = ((-1 * b) + 0) / (2 * a)\n",
    "    print(f'A raiz é {raiz}')\n",
    "else:\n",
    "    raiz1 = ((-1 * b) + sqrt(delta)) / (2 * a)\n",
    "    raiz2 = ((-1 * b) - sqrt(delta)) / (2 * a)\n",
    "    print(f'A raiz 01 é = {round(raiz1, 2)} e a raiz 02 é = {round(raiz2, 2)}')     "
   ]
  },
  {
   "cell_type": "markdown",
   "metadata": {},
   "source": [
    "## Fim da Aula 7"
   ]
  },
  {
   "cell_type": "code",
   "execution_count": null,
   "metadata": {},
   "outputs": [],
   "source": []
  }
 ],
 "metadata": {
  "kernelspec": {
   "display_name": "Python 3 (ipykernel)",
   "language": "python",
   "name": "python3"
  },
  "language_info": {
   "codemirror_mode": {
    "name": "ipython",
    "version": 3
   },
   "file_extension": ".py",
   "mimetype": "text/x-python",
   "name": "python",
   "nbconvert_exporter": "python",
   "pygments_lexer": "ipython3",
   "version": "3.12.4"
  }
 },
 "nbformat": 4,
 "nbformat_minor": 4
}
